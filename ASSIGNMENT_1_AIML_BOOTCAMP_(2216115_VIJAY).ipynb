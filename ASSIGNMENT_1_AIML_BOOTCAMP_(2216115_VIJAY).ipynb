{
  "nbformat": 4,
  "nbformat_minor": 0,
  "metadata": {
    "colab": {
      "name": "ASSIGNMENT -1 AIML_BOOTCAMP (2216115 VIJAY).ipynb",
      "provenance": [],
      "authorship_tag": "ABX9TyODLkZ0OF7kxqCVdvbHiMQb",
      "include_colab_link": true
    },
    "kernelspec": {
      "name": "python3",
      "display_name": "Python 3"
    },
    "language_info": {
      "name": "python"
    }
  },
  "cells": [
    {
      "cell_type": "markdown",
      "metadata": {
        "id": "view-in-github",
        "colab_type": "text"
      },
      "source": [
        "<a href=\"https://colab.research.google.com/github/2003A52069/2216115-AIML_BOOTCAMP-VIJAY-/blob/main/ASSIGNMENT_1_AIML_BOOTCAMP_(2216115_VIJAY).ipynb\" target=\"_parent\"><img src=\"https://colab.research.google.com/assets/colab-badge.svg\" alt=\"Open In Colab\"/></a>"
      ]
    },
    {
      "cell_type": "code",
      "execution_count": null,
      "metadata": {
        "id": "Iq-EdJ-no93-"
      },
      "outputs": [],
      "source": [
        ""
      ]
    },
    {
      "cell_type": "markdown",
      "source": [
        "1.Implement the methods of String with examples"
      ],
      "metadata": {
        "id": "ouf7f8qspUK-"
      }
    },
    {
      "cell_type": "code",
      "source": [
        "\n",
        "my_string = 'Hello'\n",
        "print(my_string)\n",
        "\n",
        "my_string = \"Hello\"\n",
        "print(my_string)\n",
        "\n",
        "my_string = '''Hello'''\n",
        "print(my_string)\n",
        "\n",
        "\n",
        "my_string = \"\"\"Hello, welcome to\n",
        "           SR UNIVERSITY\"\"\"\n",
        "print(my_string)"
      ],
      "metadata": {
        "colab": {
          "base_uri": "https://localhost:8080/"
        },
        "id": "U_snhZJfpWrx",
        "outputId": "92bc157a-13a2-4522-bd24-b78e2498fd47"
      },
      "execution_count": 2,
      "outputs": [
        {
          "output_type": "stream",
          "name": "stdout",
          "text": [
            "Hello\n",
            "Hello\n",
            "Hello\n",
            "Hello, welcome to\n",
            "           SR UNIVERSITY\n"
          ]
        }
      ]
    },
    {
      "cell_type": "code",
      "source": [
        " \n",
        "str = 'VIJAYVELE'\n",
        "print('str = ', str)\n",
        "\n",
        "\n",
        "print('str[0] = ', str[0])\n",
        "\n",
        "\n",
        "print('str[-1] = ', str[-1])\n",
        "\n",
        "\n",
        "print('str[1:5] = ', str[1:5])\n",
        "\n",
        "print('str[5:-2] = ', str[5:-2])"
      ],
      "metadata": {
        "colab": {
          "base_uri": "https://localhost:8080/"
        },
        "id": "JHW8NoynqcJo",
        "outputId": "9b8cd9a1-3fb3-4e27-fab1-be483627b20a"
      },
      "execution_count": 3,
      "outputs": [
        {
          "output_type": "stream",
          "name": "stdout",
          "text": [
            "str =  VIJAYVELE\n",
            "str[0] =  V\n",
            "str[-1] =  E\n",
            "str[1:5] =  IJAY\n",
            "str[5:-2] =  VE\n"
          ]
        }
      ]
    },
    {
      "cell_type": "code",
      "source": [
        "\n",
        "str1 = 'Hello'\n",
        "str2 ='World!'\n",
        "\n",
        "\n",
        "print('str1 + str2 = ', str1 + str2)\n",
        "print('str1 * 3 =', str1 * 3)"
      ],
      "metadata": {
        "colab": {
          "base_uri": "https://localhost:8080/"
        },
        "id": "CshJHazzrMTT",
        "outputId": "ca49ddce-ccfd-46ad-d8cb-41b0f24021df"
      },
      "execution_count": 7,
      "outputs": [
        {
          "output_type": "stream",
          "name": "stdout",
          "text": [
            "str1 + str2 =  HelloWorld!\n",
            "str1 * 3 = HelloHelloHello\n"
          ]
        }
      ]
    },
    {
      "cell_type": "code",
      "source": [
        "my_string=\" amazon great indian festival \"\n",
        "print(my_string.upper())\n",
        "print(my_string.lower())\n",
        "print(my_string.swapcase())\n",
        "print(my_string.title())\n",
        "print(my_string.capitalize())\n",
        "string5=\"  it was raining yesturday \"\n",
        "print(string5.strip())\n",
        "print(string5.lstrip())\n",
        "print(string5.rstrip())"
      ],
      "metadata": {
        "colab": {
          "base_uri": "https://localhost:8080/"
        },
        "id": "de_4en1fr_jQ",
        "outputId": "b76139e3-b649-4b33-9425-eda69a2ad81b"
      },
      "execution_count": 9,
      "outputs": [
        {
          "output_type": "stream",
          "name": "stdout",
          "text": [
            " AMAZON GREAT INDIAN FESTIVAL \n",
            " amazon great indian festival \n",
            " AMAZON GREAT INDIAN FESTIVAL \n",
            " Amazon Great Indian Festival \n",
            " amazon great indian festival \n",
            "it was raining yesturday\n",
            "it was raining yesturday \n",
            "  it was raining yesturday\n"
          ]
        }
      ]
    },
    {
      "cell_type": "code",
      "source": [
        ""
      ],
      "metadata": {
        "id": "RJ9t8K27v4Vr"
      },
      "execution_count": null,
      "outputs": []
    },
    {
      "cell_type": "markdown",
      "source": [
        "2.Implement the methods of List with examples."
      ],
      "metadata": {
        "id": "miLP5wrss3xB"
      }
    },
    {
      "cell_type": "code",
      "source": [
        "my_list = ['a', 'b', 'c', 'd', 'e']\n",
        "\n",
        "print(my_list[0])  \n",
        "\n",
        "\n",
        "print(my_list[2])  \n",
        "\n",
        "\n",
        "print(my_list[4])  \n",
        "\n"
      ],
      "metadata": {
        "colab": {
          "base_uri": "https://localhost:8080/"
        },
        "id": "8aPT09WWs8t0",
        "outputId": "b4f4d159-b5cb-4715-8bee-6ef1fffa237c"
      },
      "execution_count": 12,
      "outputs": [
        {
          "output_type": "stream",
          "name": "stdout",
          "text": [
            "a\n",
            "c\n",
            "e\n"
          ]
        }
      ]
    },
    {
      "cell_type": "code",
      "source": [
        "\n",
        "my_list = ['a','b','c','d','e']\n",
        "\n",
        "# last item\n",
        "print(my_list[-1])\n",
        "\n",
        "# fifth last item\n",
        "print(my_list[-5])"
      ],
      "metadata": {
        "colab": {
          "base_uri": "https://localhost:8080/"
        },
        "id": "zatOuL8lt-jN",
        "outputId": "e0993fff-9448-43a7-819f-3f6879c84740"
      },
      "execution_count": 14,
      "outputs": [
        {
          "output_type": "stream",
          "name": "stdout",
          "text": [
            "e\n",
            "a\n"
          ]
        }
      ]
    },
    {
      "cell_type": "code",
      "source": [
        "\n",
        "\n",
        "my_list = ['v','i','j','a','y','c','h','a','n']\n",
        "\n",
        "# elements from index 2 to index 4\n",
        "print(my_list[2:5])\n",
        "\n",
        "# elements from index 5 to end\n",
        "print(my_list[5:])\n",
        "\n",
        "# elements beginning to end\n",
        "print(my_list[:])"
      ],
      "metadata": {
        "colab": {
          "base_uri": "https://localhost:8080/"
        },
        "id": "EmlC4TrhuOs4",
        "outputId": "512d79f7-a75c-4556-8caf-a4849380d65e"
      },
      "execution_count": 15,
      "outputs": [
        {
          "output_type": "stream",
          "name": "stdout",
          "text": [
            "['j', 'a', 'y']\n",
            "['c', 'h', 'a', 'n']\n",
            "['v', 'i', 'j', 'a', 'y', 'c', 'h', 'a', 'n']\n"
          ]
        }
      ]
    },
    {
      "cell_type": "code",
      "source": [
        "\n",
        "odd = [1, 3, 5]\n",
        "\n",
        "odd.append(9)\n",
        "\n",
        "print(odd)\n",
        "\n",
        "odd.extend([11, 13, 15])\n",
        "\n",
        "print(odd)"
      ],
      "metadata": {
        "colab": {
          "base_uri": "https://localhost:8080/"
        },
        "id": "_M1_ORXFuyx3",
        "outputId": "9d721517-2483-4ecd-d5bc-0ead2ac0ecc7"
      },
      "execution_count": 16,
      "outputs": [
        {
          "output_type": "stream",
          "name": "stdout",
          "text": [
            "[1, 3, 5, 9]\n",
            "[1, 3, 5, 9, 11, 13, 15]\n"
          ]
        }
      ]
    },
    {
      "cell_type": "code",
      "source": [
        "\n",
        "odd = [1, 3, 5]\n",
        "\n",
        "print(odd + [9, 7, 5])\n",
        "\n",
        "print([\"sru\"] * 3)"
      ],
      "metadata": {
        "colab": {
          "base_uri": "https://localhost:8080/"
        },
        "id": "aBYdqtz7u8YR",
        "outputId": "0663c38e-2068-4cde-a2ee-4aafdcb469b7"
      },
      "execution_count": 17,
      "outputs": [
        {
          "output_type": "stream",
          "name": "stdout",
          "text": [
            "[1, 3, 5, 9, 7, 5]\n",
            "['sru', 'sru', 'sru']\n"
          ]
        }
      ]
    },
    {
      "cell_type": "code",
      "source": [
        "\n",
        "odd = [1, 9]\n",
        "odd.insert(1,3)\n",
        "\n",
        "print(odd)\n",
        "\n"
      ],
      "metadata": {
        "colab": {
          "base_uri": "https://localhost:8080/"
        },
        "id": "LXnjgF7bvGiq",
        "outputId": "c06e3d5a-d903-490f-c9c4-605c4d4b81ca"
      },
      "execution_count": 18,
      "outputs": [
        {
          "output_type": "stream",
          "name": "stdout",
          "text": [
            "[1, 3, 9]\n"
          ]
        }
      ]
    },
    {
      "cell_type": "code",
      "source": [
        "\n",
        "my_list = ['v', 'i', 'j', 'a', 'y', 'c', 'h']\n",
        "\n",
        "# delete one item\n",
        "del my_list[2]\n",
        "\n",
        "print(my_list)\n",
        "\n",
        "# delete multiple items\n",
        "del my_list[1:5]\n",
        "\n",
        "print(my_list)\n",
        "\n",
        "# delete the entire list\n",
        "del my_list\n"
      ],
      "metadata": {
        "colab": {
          "base_uri": "https://localhost:8080/"
        },
        "id": "92DwScArvYga",
        "outputId": "029917d6-5fa7-49cb-fc34-88e5fb5011ae"
      },
      "execution_count": 20,
      "outputs": [
        {
          "output_type": "stream",
          "name": "stdout",
          "text": [
            "['v', 'i', 'a', 'y', 'c', 'h']\n",
            "['v', 'h']\n"
          ]
        }
      ]
    },
    {
      "cell_type": "code",
      "source": [
        "my_list = ['v','i','j','a','y','c','h']\n",
        "my_list.remove('v')\n",
        "\n",
        "\n",
        "print(my_list)\n",
        "\n",
        "print(my_list.pop(1))\n",
        "\n",
        "\n",
        "print(my_list)\n",
        "\n",
        "\n",
        "print(my_list.pop())\n",
        "\n",
        "\n",
        "print(my_list)\n",
        "\n",
        "my_list.clear()\n",
        "print(my_list)"
      ],
      "metadata": {
        "colab": {
          "base_uri": "https://localhost:8080/"
        },
        "id": "Xuq96HwWv8Tg",
        "outputId": "df53e6b1-2696-45d6-be68-2cc9528262be"
      },
      "execution_count": 22,
      "outputs": [
        {
          "output_type": "stream",
          "name": "stdout",
          "text": [
            "['i', 'j', 'a', 'y', 'c', 'h']\n",
            "j\n",
            "['i', 'a', 'y', 'c', 'h']\n",
            "h\n",
            "['i', 'a', 'y', 'c']\n",
            "[]\n"
          ]
        }
      ]
    },
    {
      "cell_type": "code",
      "source": [
        ""
      ],
      "metadata": {
        "id": "QwS6ONA6xQEd"
      },
      "execution_count": null,
      "outputs": []
    },
    {
      "cell_type": "markdown",
      "source": [
        "3.Implement the methods of Tuple with examples."
      ],
      "metadata": {
        "id": "wHqKnk8ExQvK"
      }
    },
    {
      "cell_type": "code",
      "source": [
        "\n",
        "\n",
        "\n",
        "v_tuple = ()\n",
        "print(v_tuple)\n",
        "\n",
        "\n",
        "v_tuple = (1, 2, 3)\n",
        "print(v_tuple)\n",
        "\n",
        "\n",
        "v_tuple = (1, \"Hye\", 5.4)\n",
        "print(v_tuple)\n",
        "\n",
        "\n",
        "v_tuple = (\"pizza\", [8, 4, 6], (1, 2, 3))\n",
        "print(v_tuple)"
      ],
      "metadata": {
        "colab": {
          "base_uri": "https://localhost:8080/"
        },
        "id": "fiXLSxP8xSvQ",
        "outputId": "6da39b7c-f990-418c-e979-7430a5ad3c1d"
      },
      "execution_count": 25,
      "outputs": [
        {
          "output_type": "stream",
          "name": "stdout",
          "text": [
            "()\n",
            "(1, 2, 3)\n",
            "(1, 'Hye', 5.4)\n",
            "('pizza', [8, 4, 6], (1, 2, 3))\n"
          ]
        }
      ]
    },
    {
      "cell_type": "code",
      "source": [
        "\n",
        "v_tuple = ('v','i','j','a','y','c')\n",
        "\n",
        "print(v_tuple[0])"
      ],
      "metadata": {
        "colab": {
          "base_uri": "https://localhost:8080/"
        },
        "id": "3OnilpaQy4hR",
        "outputId": "81a42c20-5824-4310-a10c-d39428c7efa3"
      },
      "execution_count": 26,
      "outputs": [
        {
          "output_type": "stream",
          "name": "stdout",
          "text": [
            "v\n"
          ]
        }
      ]
    },
    {
      "cell_type": "code",
      "source": [
        "\n",
        "v_tuple = ('v','i','j','a','y','c')\n",
        "\n",
        "\n",
        "print(v_tuple[-1])\n",
        "\n",
        "\n",
        "print(v_tuple[-6])"
      ],
      "metadata": {
        "colab": {
          "base_uri": "https://localhost:8080/"
        },
        "id": "T6DcEXXWzFdF",
        "outputId": "646e1f7f-9245-4277-a5e9-318ecd54345b"
      },
      "execution_count": 27,
      "outputs": [
        {
          "output_type": "stream",
          "name": "stdout",
          "text": [
            "c\n",
            "v\n"
          ]
        }
      ]
    },
    {
      "cell_type": "code",
      "source": [
        "v_tuple = ('v','i','j','a','y','c')\n",
        "\n",
        "\n",
        "print(v_tuple.count('i'))  \n",
        "print(v_tuple.index('v')) "
      ],
      "metadata": {
        "colab": {
          "base_uri": "https://localhost:8080/"
        },
        "id": "-JOIAgJTzenI",
        "outputId": "1adee43b-fa9c-4456-b8c0-1cfd94af0835"
      },
      "execution_count": 29,
      "outputs": [
        {
          "output_type": "stream",
          "name": "stdout",
          "text": [
            "1\n",
            "0\n"
          ]
        }
      ]
    },
    {
      "cell_type": "code",
      "source": [
        "\n",
        "v_tuple =('v','i','j','a','y','c') \n",
        "\n",
        "del v_tuple\n",
        "\n"
      ],
      "metadata": {
        "id": "YWy9DyWGz9Pi"
      },
      "execution_count": 32,
      "outputs": []
    },
    {
      "cell_type": "markdown",
      "source": [
        ""
      ],
      "metadata": {
        "id": "ImL5PgqHpTa8"
      }
    }
  ]
}