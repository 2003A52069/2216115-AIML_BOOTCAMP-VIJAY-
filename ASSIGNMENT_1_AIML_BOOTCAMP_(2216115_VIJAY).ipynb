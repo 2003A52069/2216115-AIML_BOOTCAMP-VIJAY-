{
  "nbformat": 4,
  "nbformat_minor": 0,
  "metadata": {
    "colab": {
      "name": "ASSIGNMENT -1 AIML_BOOTCAMP (2216115 VIJAY).ipynb",
      "provenance": [],
      "authorship_tag": "ABX9TyNXrU3s7vUgZRpPYQfXzcrD",
      "include_colab_link": true
    },
    "kernelspec": {
      "name": "python3",
      "display_name": "Python 3"
    },
    "language_info": {
      "name": "python"
    }
  },
  "cells": [
    {
      "cell_type": "markdown",
      "metadata": {
        "id": "view-in-github",
        "colab_type": "text"
      },
      "source": [
        "<a href=\"https://colab.research.google.com/github/2003A52069/2216115-AIML_BOOTCAMP-VIJAY-/blob/main/ASSIGNMENT_1_AIML_BOOTCAMP_(2216115_VIJAY).ipynb\" target=\"_parent\"><img src=\"https://colab.research.google.com/assets/colab-badge.svg\" alt=\"Open In Colab\"/></a>"
      ]
    },
    {
      "cell_type": "code",
      "execution_count": null,
      "metadata": {
        "id": "Iq-EdJ-no93-"
      },
      "outputs": [],
      "source": [
        ""
      ]
    },
    {
      "cell_type": "markdown",
      "source": [
        "1.Implement the methods of String with examples"
      ],
      "metadata": {
        "id": "ouf7f8qspUK-"
      }
    },
    {
      "cell_type": "code",
      "source": [
        "\n",
        "my_string = 'Hello'\n",
        "print(my_string)\n",
        "\n",
        "my_string = \"Hello\"\n",
        "print(my_string)\n",
        "\n",
        "my_string = '''Hello'''\n",
        "print(my_string)\n",
        "\n",
        "\n",
        "my_string = \"\"\"Hello, welcome to\n",
        "           SR UNIVERSITY\"\"\"\n",
        "print(my_string)"
      ],
      "metadata": {
        "colab": {
          "base_uri": "https://localhost:8080/"
        },
        "id": "U_snhZJfpWrx",
        "outputId": "92bc157a-13a2-4522-bd24-b78e2498fd47"
      },
      "execution_count": null,
      "outputs": [
        {
          "output_type": "stream",
          "name": "stdout",
          "text": [
            "Hello\n",
            "Hello\n",
            "Hello\n",
            "Hello, welcome to\n",
            "           SR UNIVERSITY\n"
          ]
        }
      ]
    },
    {
      "cell_type": "code",
      "source": [
        " \n",
        "str = 'VIJAYVELE'\n",
        "print('str = ', str)\n",
        "\n",
        "\n",
        "print('str[0] = ', str[0])\n",
        "\n",
        "\n",
        "print('str[-1] = ', str[-1])\n",
        "\n",
        "\n",
        "print('str[1:5] = ', str[1:5])\n",
        "\n",
        "print('str[5:-2] = ', str[5:-2])"
      ],
      "metadata": {
        "colab": {
          "base_uri": "https://localhost:8080/"
        },
        "id": "JHW8NoynqcJo",
        "outputId": "9b8cd9a1-3fb3-4e27-fab1-be483627b20a"
      },
      "execution_count": null,
      "outputs": [
        {
          "output_type": "stream",
          "name": "stdout",
          "text": [
            "str =  VIJAYVELE\n",
            "str[0] =  V\n",
            "str[-1] =  E\n",
            "str[1:5] =  IJAY\n",
            "str[5:-2] =  VE\n"
          ]
        }
      ]
    },
    {
      "cell_type": "code",
      "source": [
        "\n",
        "str1 = 'Hello'\n",
        "str2 ='World!'\n",
        "\n",
        "\n",
        "print('str1 + str2 = ', str1 + str2)\n",
        "print('str1 * 3 =', str1 * 3)"
      ],
      "metadata": {
        "colab": {
          "base_uri": "https://localhost:8080/"
        },
        "id": "CshJHazzrMTT",
        "outputId": "ca49ddce-ccfd-46ad-d8cb-41b0f24021df"
      },
      "execution_count": null,
      "outputs": [
        {
          "output_type": "stream",
          "name": "stdout",
          "text": [
            "str1 + str2 =  HelloWorld!\n",
            "str1 * 3 = HelloHelloHello\n"
          ]
        }
      ]
    },
    {
      "cell_type": "code",
      "source": [
        "my_string=\" amazon great indian festival \"\n",
        "print(my_string.upper())\n",
        "print(my_string.lower())\n",
        "print(my_string.swapcase())\n",
        "print(my_string.title())\n",
        "print(my_string.capitalize())\n",
        "string5=\"  it was raining yesturday \"\n",
        "print(string5.strip())\n",
        "print(string5.lstrip())\n",
        "print(string5.rstrip())"
      ],
      "metadata": {
        "colab": {
          "base_uri": "https://localhost:8080/"
        },
        "id": "de_4en1fr_jQ",
        "outputId": "b76139e3-b649-4b33-9425-eda69a2ad81b"
      },
      "execution_count": null,
      "outputs": [
        {
          "output_type": "stream",
          "name": "stdout",
          "text": [
            " AMAZON GREAT INDIAN FESTIVAL \n",
            " amazon great indian festival \n",
            " AMAZON GREAT INDIAN FESTIVAL \n",
            " Amazon Great Indian Festival \n",
            " amazon great indian festival \n",
            "it was raining yesturday\n",
            "it was raining yesturday \n",
            "  it was raining yesturday\n"
          ]
        }
      ]
    },
    {
      "cell_type": "code",
      "source": [
        ""
      ],
      "metadata": {
        "id": "RJ9t8K27v4Vr"
      },
      "execution_count": null,
      "outputs": []
    },
    {
      "cell_type": "markdown",
      "source": [
        "2.Implement the methods of List with examples."
      ],
      "metadata": {
        "id": "miLP5wrss3xB"
      }
    },
    {
      "cell_type": "code",
      "source": [
        "my_list = ['a', 'b', 'c', 'd', 'e']\n",
        "\n",
        "print(my_list[0])  \n",
        "\n",
        "\n",
        "print(my_list[2])  \n",
        "\n",
        "\n",
        "print(my_list[4])  \n",
        "\n"
      ],
      "metadata": {
        "colab": {
          "base_uri": "https://localhost:8080/"
        },
        "id": "8aPT09WWs8t0",
        "outputId": "b4f4d159-b5cb-4715-8bee-6ef1fffa237c"
      },
      "execution_count": null,
      "outputs": [
        {
          "output_type": "stream",
          "name": "stdout",
          "text": [
            "a\n",
            "c\n",
            "e\n"
          ]
        }
      ]
    },
    {
      "cell_type": "code",
      "source": [
        "\n",
        "my_list = ['a','b','c','d','e']\n",
        "\n",
        "# last item\n",
        "print(my_list[-1])\n",
        "\n",
        "# fifth last item\n",
        "print(my_list[-5])"
      ],
      "metadata": {
        "colab": {
          "base_uri": "https://localhost:8080/"
        },
        "id": "zatOuL8lt-jN",
        "outputId": "e0993fff-9448-43a7-819f-3f6879c84740"
      },
      "execution_count": null,
      "outputs": [
        {
          "output_type": "stream",
          "name": "stdout",
          "text": [
            "e\n",
            "a\n"
          ]
        }
      ]
    },
    {
      "cell_type": "code",
      "source": [
        "\n",
        "\n",
        "my_list = ['v','i','j','a','y','c','h','a','n']\n",
        "\n",
        "# elements from index 2 to index 4\n",
        "print(my_list[2:5])\n",
        "\n",
        "# elements from index 5 to end\n",
        "print(my_list[5:])\n",
        "\n",
        "# elements beginning to end\n",
        "print(my_list[:])"
      ],
      "metadata": {
        "colab": {
          "base_uri": "https://localhost:8080/"
        },
        "id": "EmlC4TrhuOs4",
        "outputId": "512d79f7-a75c-4556-8caf-a4849380d65e"
      },
      "execution_count": null,
      "outputs": [
        {
          "output_type": "stream",
          "name": "stdout",
          "text": [
            "['j', 'a', 'y']\n",
            "['c', 'h', 'a', 'n']\n",
            "['v', 'i', 'j', 'a', 'y', 'c', 'h', 'a', 'n']\n"
          ]
        }
      ]
    },
    {
      "cell_type": "code",
      "source": [
        "\n",
        "odd = [1, 3, 5]\n",
        "\n",
        "odd.append(9)\n",
        "\n",
        "print(odd)\n",
        "\n",
        "odd.extend([11, 13, 15])\n",
        "\n",
        "print(odd)"
      ],
      "metadata": {
        "colab": {
          "base_uri": "https://localhost:8080/"
        },
        "id": "_M1_ORXFuyx3",
        "outputId": "9d721517-2483-4ecd-d5bc-0ead2ac0ecc7"
      },
      "execution_count": null,
      "outputs": [
        {
          "output_type": "stream",
          "name": "stdout",
          "text": [
            "[1, 3, 5, 9]\n",
            "[1, 3, 5, 9, 11, 13, 15]\n"
          ]
        }
      ]
    },
    {
      "cell_type": "code",
      "source": [
        "\n",
        "odd = [1, 3, 5]\n",
        "\n",
        "print(odd + [9, 7, 5])\n",
        "\n",
        "print([\"sru\"] * 3)"
      ],
      "metadata": {
        "colab": {
          "base_uri": "https://localhost:8080/"
        },
        "id": "aBYdqtz7u8YR",
        "outputId": "0663c38e-2068-4cde-a2ee-4aafdcb469b7"
      },
      "execution_count": null,
      "outputs": [
        {
          "output_type": "stream",
          "name": "stdout",
          "text": [
            "[1, 3, 5, 9, 7, 5]\n",
            "['sru', 'sru', 'sru']\n"
          ]
        }
      ]
    },
    {
      "cell_type": "code",
      "source": [
        "\n",
        "odd = [1, 9]\n",
        "odd.insert(1,3)\n",
        "\n",
        "print(odd)\n",
        "\n"
      ],
      "metadata": {
        "colab": {
          "base_uri": "https://localhost:8080/"
        },
        "id": "LXnjgF7bvGiq",
        "outputId": "c06e3d5a-d903-490f-c9c4-605c4d4b81ca"
      },
      "execution_count": null,
      "outputs": [
        {
          "output_type": "stream",
          "name": "stdout",
          "text": [
            "[1, 3, 9]\n"
          ]
        }
      ]
    },
    {
      "cell_type": "code",
      "source": [
        "\n",
        "my_list = ['v', 'i', 'j', 'a', 'y', 'c', 'h']\n",
        "\n",
        "# delete one item\n",
        "del my_list[2]\n",
        "\n",
        "print(my_list)\n",
        "\n",
        "# delete multiple items\n",
        "del my_list[1:5]\n",
        "\n",
        "print(my_list)\n",
        "\n",
        "# delete the entire list\n",
        "del my_list\n"
      ],
      "metadata": {
        "colab": {
          "base_uri": "https://localhost:8080/"
        },
        "id": "92DwScArvYga",
        "outputId": "029917d6-5fa7-49cb-fc34-88e5fb5011ae"
      },
      "execution_count": null,
      "outputs": [
        {
          "output_type": "stream",
          "name": "stdout",
          "text": [
            "['v', 'i', 'a', 'y', 'c', 'h']\n",
            "['v', 'h']\n"
          ]
        }
      ]
    },
    {
      "cell_type": "code",
      "source": [
        "my_list = ['v','i','j','a','y','c','h']\n",
        "my_list.remove('v')\n",
        "\n",
        "\n",
        "print(my_list)\n",
        "\n",
        "print(my_list.pop(1))\n",
        "\n",
        "\n",
        "print(my_list)\n",
        "\n",
        "\n",
        "print(my_list.pop())\n",
        "\n",
        "\n",
        "print(my_list)\n",
        "\n",
        "my_list.clear()\n",
        "print(my_list)"
      ],
      "metadata": {
        "colab": {
          "base_uri": "https://localhost:8080/"
        },
        "id": "Xuq96HwWv8Tg",
        "outputId": "df53e6b1-2696-45d6-be68-2cc9528262be"
      },
      "execution_count": null,
      "outputs": [
        {
          "output_type": "stream",
          "name": "stdout",
          "text": [
            "['i', 'j', 'a', 'y', 'c', 'h']\n",
            "j\n",
            "['i', 'a', 'y', 'c', 'h']\n",
            "h\n",
            "['i', 'a', 'y', 'c']\n",
            "[]\n"
          ]
        }
      ]
    },
    {
      "cell_type": "code",
      "source": [
        ""
      ],
      "metadata": {
        "id": "QwS6ONA6xQEd"
      },
      "execution_count": null,
      "outputs": []
    },
    {
      "cell_type": "markdown",
      "source": [
        "3.Implement the methods of Tuple with examples."
      ],
      "metadata": {
        "id": "wHqKnk8ExQvK"
      }
    },
    {
      "cell_type": "code",
      "source": [
        "\n",
        "\n",
        "\n",
        "v_tuple = ()\n",
        "print(v_tuple)\n",
        "\n",
        "\n",
        "v_tuple = (1, 2, 3)\n",
        "print(v_tuple)\n",
        "\n",
        "\n",
        "v_tuple = (1, \"Hye\", 5.4)\n",
        "print(v_tuple)\n",
        "\n",
        "\n",
        "v_tuple = (\"pizza\", [8, 4, 6], (1, 2, 3))\n",
        "print(v_tuple)"
      ],
      "metadata": {
        "colab": {
          "base_uri": "https://localhost:8080/"
        },
        "id": "fiXLSxP8xSvQ",
        "outputId": "6da39b7c-f990-418c-e979-7430a5ad3c1d"
      },
      "execution_count": null,
      "outputs": [
        {
          "output_type": "stream",
          "name": "stdout",
          "text": [
            "()\n",
            "(1, 2, 3)\n",
            "(1, 'Hye', 5.4)\n",
            "('pizza', [8, 4, 6], (1, 2, 3))\n"
          ]
        }
      ]
    },
    {
      "cell_type": "code",
      "source": [
        "\n",
        "v_tuple = ('v','i','j','a','y','c')\n",
        "\n",
        "print(v_tuple[0])"
      ],
      "metadata": {
        "colab": {
          "base_uri": "https://localhost:8080/"
        },
        "id": "3OnilpaQy4hR",
        "outputId": "81a42c20-5824-4310-a10c-d39428c7efa3"
      },
      "execution_count": null,
      "outputs": [
        {
          "output_type": "stream",
          "name": "stdout",
          "text": [
            "v\n"
          ]
        }
      ]
    },
    {
      "cell_type": "code",
      "source": [
        "\n",
        "v_tuple = ('v','i','j','a','y','c')\n",
        "\n",
        "\n",
        "print(v_tuple[-1])\n",
        "\n",
        "\n",
        "print(v_tuple[-6])"
      ],
      "metadata": {
        "colab": {
          "base_uri": "https://localhost:8080/"
        },
        "id": "T6DcEXXWzFdF",
        "outputId": "646e1f7f-9245-4277-a5e9-318ecd54345b"
      },
      "execution_count": null,
      "outputs": [
        {
          "output_type": "stream",
          "name": "stdout",
          "text": [
            "c\n",
            "v\n"
          ]
        }
      ]
    },
    {
      "cell_type": "code",
      "source": [
        "v_tuple = ('v','i','j','a','y','c')\n",
        "\n",
        "\n",
        "print(v_tuple.count('i'))  \n",
        "print(v_tuple.index('v')) "
      ],
      "metadata": {
        "colab": {
          "base_uri": "https://localhost:8080/"
        },
        "id": "-JOIAgJTzenI",
        "outputId": "1adee43b-fa9c-4456-b8c0-1cfd94af0835"
      },
      "execution_count": null,
      "outputs": [
        {
          "output_type": "stream",
          "name": "stdout",
          "text": [
            "1\n",
            "0\n"
          ]
        }
      ]
    },
    {
      "cell_type": "code",
      "source": [
        "\n",
        "v_tuple =('v','i','j','a','y','c') \n",
        "\n",
        "del v_tuple\n",
        "\n"
      ],
      "metadata": {
        "id": "YWy9DyWGz9Pi"
      },
      "execution_count": null,
      "outputs": []
    },
    {
      "cell_type": "code",
      "source": [
        ""
      ],
      "metadata": {
        "id": "7IJiuF1m1vn7"
      },
      "execution_count": null,
      "outputs": []
    },
    {
      "cell_type": "markdown",
      "source": [
        "4.Implement the methods of Dictionary with examples."
      ],
      "metadata": {
        "id": "W-juZX0Q2JNF"
      }
    },
    {
      "cell_type": "code",
      "source": [
        "\n",
        "my_dict = {'name': 'vijay', 'age': 20}\n",
        "\n",
        "\n",
        "print(my_dict['name'])\n",
        "\n",
        "\n",
        "print(my_dict.get('age'))\n",
        "\n",
        "\n",
        "print(my_dict.get('address'))\n",
        "\n"
      ],
      "metadata": {
        "colab": {
          "base_uri": "https://localhost:8080/"
        },
        "id": "eImNbh-b2K1K",
        "outputId": "91e6767c-cccc-4b76-a41f-580155f08a92"
      },
      "execution_count": null,
      "outputs": [
        {
          "output_type": "stream",
          "name": "stdout",
          "text": [
            "vijay\n",
            "20\n",
            "None\n"
          ]
        }
      ]
    },
    {
      "cell_type": "code",
      "source": [
        "# Changing and adding Dictionary Elements\n",
        "my_dict = {'name': 'vijay', 'age': 39}\n",
        "\n",
        "my_dict['age'] = 56\n",
        "\n",
        "print(my_dict)\n",
        "\n",
        "\n",
        "my_dict['address'] = 'nzb'\n",
        "\n",
        "\n",
        "print(my_dict)"
      ],
      "metadata": {
        "colab": {
          "base_uri": "https://localhost:8080/"
        },
        "id": "GR0YRkUk2gmz",
        "outputId": "8079cd52-ea78-4a7f-8545-0deebb4604d2"
      },
      "execution_count": null,
      "outputs": [
        {
          "output_type": "stream",
          "name": "stdout",
          "text": [
            "{'name': 'vijay', 'age': 56}\n",
            "{'name': 'vijay', 'age': 56, 'address': 'nzb'}\n"
          ]
        }
      ]
    },
    {
      "cell_type": "code",
      "source": [
        "dict={'name':'vijay','branch':'CSE(AIML)','year':2,'address':'nzb','college':'SR'}\n",
        "print(dict['name'])\n",
        "print(dict.keys())\n",
        "print(dict.values())\n",
        "print(dict.get('name'))\n",
        "dict['firstname']='veleti' #add iteam\n",
        "print(dict)\n",
        "dict['college']='SRU' #update value\n",
        "print(dict)\n",
        "dict.pop('address') #remove particular item\n",
        "print(dict)\n",
        "dict.popitem() #remove an item from last\n",
        "print(dict)\n",
        "dict.clear() # clear enter dict\n",
        "print(dict)"
      ],
      "metadata": {
        "colab": {
          "base_uri": "https://localhost:8080/"
        },
        "id": "UffoMpUrT6rr",
        "outputId": "682509fb-fa11-4eee-e898-92619f430406"
      },
      "execution_count": null,
      "outputs": [
        {
          "output_type": "stream",
          "name": "stdout",
          "text": [
            "vijay\n",
            "dict_keys(['name', 'branch', 'year', 'address', 'college'])\n",
            "dict_values(['vijay', 'CSE(AIML)', 2, 'nzb', 'SR'])\n",
            "vijay\n",
            "{'name': 'vijay', 'branch': 'CSE(AIML)', 'year': 2, 'address': 'nzb', 'college': 'SR', 'firstname': 'veleti'}\n",
            "{'name': 'vijay', 'branch': 'CSE(AIML)', 'year': 2, 'address': 'nzb', 'college': 'SRU', 'firstname': 'veleti'}\n",
            "{'name': 'vijay', 'branch': 'CSE(AIML)', 'year': 2, 'college': 'SRU', 'firstname': 'veleti'}\n",
            "{'name': 'vijay', 'branch': 'CSE(AIML)', 'year': 2, 'college': 'SRU'}\n",
            "{}\n"
          ]
        }
      ]
    },
    {
      "cell_type": "markdown",
      "source": [
        "5.Implement the methods of Set with examples."
      ],
      "metadata": {
        "id": "X69XmXFHUTP7"
      }
    },
    {
      "cell_type": "code",
      "source": [
        "set1={10,20,30,40,50,60,70,80,90,100}\n",
        "set2={10,9,7,8,6,5,1,3,2,4}\n",
        "set1.add(11)\n",
        "print(set1)\n",
        "set1.update([12,13,14])\n",
        "print(set1)\n",
        "set1.discard(14)\n",
        "print(set1)\n",
        "set1.remove(40)\n",
        "print(set1)\n",
        "set1.copy()\n",
        "print(set1)\n",
        "set1.difference()\n",
        "print(set1)\n",
        "print(set1)\n",
        "#union\n",
        "print(set1.union(set2))\n",
        "#intersection\n",
        "print(set1.intersection(set2))\n",
        "#difference\n",
        "print(set1-set2)\n",
        "print(set2-set1)\n",
        "set1.pop()\n",
        "print(set1)"
      ],
      "metadata": {
        "colab": {
          "base_uri": "https://localhost:8080/"
        },
        "id": "gE5GcpmuUXdr",
        "outputId": "a5503942-82d9-429b-9272-94cb6018cb0a"
      },
      "execution_count": null,
      "outputs": [
        {
          "output_type": "stream",
          "name": "stdout",
          "text": [
            "{100, 70, 40, 10, 11, 80, 50, 20, 90, 60, 30}\n",
            "{100, 70, 40, 10, 11, 12, 13, 14, 80, 50, 20, 90, 60, 30}\n",
            "{100, 70, 40, 10, 11, 12, 13, 80, 50, 20, 90, 60, 30}\n",
            "{100, 70, 10, 11, 12, 13, 80, 50, 20, 90, 60, 30}\n",
            "{100, 70, 10, 11, 12, 13, 80, 50, 20, 90, 60, 30}\n",
            "{100, 70, 10, 11, 12, 13, 80, 50, 20, 90, 60, 30}\n",
            "{100, 70, 10, 11, 12, 13, 80, 50, 20, 90, 60, 30}\n",
            "{1, 2, 3, 4, 5, 70, 6, 7, 8, 10, 11, 12, 13, 9, 80, 20, 90, 30, 100, 50, 60}\n",
            "{10}\n",
            "{100, 70, 11, 12, 13, 80, 50, 20, 90, 60, 30}\n",
            "{1, 2, 3, 4, 5, 6, 7, 8, 9}\n",
            "{70, 10, 11, 12, 13, 80, 50, 20, 90, 60, 30}\n"
          ]
        }
      ]
    },
    {
      "cell_type": "markdown",
      "source": [
        "6.Write a python program to convert Decimal to Binary, Octal and Hexadecimal with direct method"
      ],
      "metadata": {
        "id": "eQRcxyvoUysL"
      }
    },
    {
      "cell_type": "code",
      "source": [
        "print(bin(30))\n",
        "print(oct(30))\n",
        "print(hex(30))"
      ],
      "metadata": {
        "colab": {
          "base_uri": "https://localhost:8080/"
        },
        "id": "Ep2cCPKjVDsv",
        "outputId": "de00d103-ec45-4466-b041-4125738fb31d"
      },
      "execution_count": null,
      "outputs": [
        {
          "output_type": "stream",
          "name": "stdout",
          "text": [
            "0b11110\n",
            "0o36\n",
            "0x1e\n"
          ]
        }
      ]
    },
    {
      "cell_type": "markdown",
      "source": [
        ""
      ],
      "metadata": {
        "id": "ZYuqRBSeVK4n"
      }
    },
    {
      "cell_type": "markdown",
      "source": [
        "7.Implement Arithmetic operators with examples."
      ],
      "metadata": {
        "id": "Kp1dShVTVMQC"
      }
    },
    {
      "cell_type": "code",
      "source": [
        "A=30\n",
        "B=15\n",
        "print(A+B)\n",
        "print(A-B)\n",
        "print(A*B)\n",
        "print(A/B)\n",
        "print(A%B)\n",
        "print(A**B)\n",
        "print(A//B)"
      ],
      "metadata": {
        "colab": {
          "base_uri": "https://localhost:8080/"
        },
        "id": "S9QoD8rZVPls",
        "outputId": "43cc4c54-af61-42fb-de39-4b8636091545"
      },
      "execution_count": null,
      "outputs": [
        {
          "output_type": "stream",
          "name": "stdout",
          "text": [
            "45\n",
            "15\n",
            "450\n",
            "2.0\n",
            "0\n",
            "14348907000000000000000\n",
            "2\n"
          ]
        }
      ]
    },
    {
      "cell_type": "markdown",
      "source": [
        "8.Implement Assignment operators with examples."
      ],
      "metadata": {
        "id": "KwDGqoT4VX8F"
      }
    },
    {
      "cell_type": "code",
      "source": [
        "a=100\n",
        "b=50\n",
        "c=a+b\n",
        "print(c)\n",
        "c+=a\n",
        "print(c)\n",
        "c-=a\n",
        "print(c)\n",
        "c*=a\n",
        "print(c)\n",
        "c/=a\n",
        "print(c)\n",
        "c=2\n",
        "c%=a\n",
        "print(c)\n",
        "c**=a\n",
        "print(c)\n",
        "c//=a\n",
        "print(c)"
      ],
      "metadata": {
        "colab": {
          "base_uri": "https://localhost:8080/"
        },
        "id": "_nWSUzoWVcPu",
        "outputId": "8010d556-a0b6-4ad4-92ef-dac02c154ea9"
      },
      "execution_count": null,
      "outputs": [
        {
          "output_type": "stream",
          "name": "stdout",
          "text": [
            "150\n",
            "250\n",
            "150\n",
            "15000\n",
            "150.0\n",
            "2\n",
            "1267650600228229401496703205376\n",
            "12676506002282294014967032053\n"
          ]
        }
      ]
    },
    {
      "cell_type": "markdown",
      "source": [
        "9.Implement Comparison operators with examples."
      ],
      "metadata": {
        "id": "XdPElBUeViTA"
      }
    },
    {
      "cell_type": "code",
      "source": [
        "a=46\n",
        "b=56\n",
        "print(a==b)\n",
        "print(a!=b)\n",
        "print(a>b)\n",
        "print(a<b)\n",
        "print(a>=b)\n",
        "print(a<=b)"
      ],
      "metadata": {
        "colab": {
          "base_uri": "https://localhost:8080/"
        },
        "id": "p9rFqaobVlWi",
        "outputId": "473694d7-a069-422c-ef53-ce75a421724e"
      },
      "execution_count": null,
      "outputs": [
        {
          "output_type": "stream",
          "name": "stdout",
          "text": [
            "False\n",
            "True\n",
            "False\n",
            "True\n",
            "False\n",
            "True\n"
          ]
        }
      ]
    },
    {
      "cell_type": "code",
      "source": [
        ""
      ],
      "metadata": {
        "id": "PnhW6yDuVuVl"
      },
      "execution_count": null,
      "outputs": []
    },
    {
      "cell_type": "markdown",
      "source": [
        "10.Implement Logical operators with examples"
      ],
      "metadata": {
        "id": "cXUXjh6WVuq3"
      }
    },
    {
      "cell_type": "code",
      "source": [
        "a='true'\n",
        "b='flase'\n",
        "print(a and b)\n",
        "print(a or b)\n",
        "print(not a)\n",
        "print(not b)"
      ],
      "metadata": {
        "colab": {
          "base_uri": "https://localhost:8080/"
        },
        "id": "TsR1m2SmVxgL",
        "outputId": "703d20ad-2fa8-4bfa-c2b9-2a6435acdf3e"
      },
      "execution_count": null,
      "outputs": [
        {
          "output_type": "stream",
          "name": "stdout",
          "text": [
            "flase\n",
            "true\n",
            "False\n",
            "False\n"
          ]
        }
      ]
    },
    {
      "cell_type": "markdown",
      "source": [
        "11.Implement Bitwise operators with examples"
      ],
      "metadata": {
        "id": "ncxiWYGhV2iQ"
      }
    },
    {
      "cell_type": "code",
      "source": [
        "a=120\n",
        "b=100\n",
        "print(a&b)\n",
        "print(a^b)\n",
        "print(a|b)\n",
        "print(~a)\n",
        "print(a>>2)\n",
        "print(a<<2)"
      ],
      "metadata": {
        "colab": {
          "base_uri": "https://localhost:8080/"
        },
        "id": "gwKiS3UNV5Oe",
        "outputId": "414e8bee-aafd-4db3-dddb-d73e8fd85c0d"
      },
      "execution_count": null,
      "outputs": [
        {
          "output_type": "stream",
          "name": "stdout",
          "text": [
            "96\n",
            "28\n",
            "124\n",
            "-121\n",
            "30\n",
            "480\n"
          ]
        }
      ]
    },
    {
      "cell_type": "markdown",
      "source": [
        "12.Implement Membership operators with examples."
      ],
      "metadata": {
        "id": "_Qlc_f2OWDIU"
      }
    },
    {
      "cell_type": "code",
      "source": [
        "a=[1,2,3,4]\n",
        "b={'car',6,7,5,'c'}\n",
        "print(6 in a)\n",
        "print('hi' in b)\n",
        "print(3 in a)\n",
        "print('b' not in b)"
      ],
      "metadata": {
        "colab": {
          "base_uri": "https://localhost:8080/"
        },
        "id": "29_YgkNxWEIe",
        "outputId": "370c08b8-9fff-4f78-faec-16ea6d4fed90"
      },
      "execution_count": null,
      "outputs": [
        {
          "output_type": "stream",
          "name": "stdout",
          "text": [
            "False\n",
            "False\n",
            "True\n",
            "True\n"
          ]
        }
      ]
    },
    {
      "cell_type": "markdown",
      "source": [
        "13.Implement Identity operators with examples"
      ],
      "metadata": {
        "id": "2CpqT3G3WmW6"
      }
    },
    {
      "cell_type": "code",
      "source": [
        "a=100\n",
        "b=200\n",
        "x='car'\n",
        "y='bike'\n",
        "print(a is b)\n",
        "print(a is not b)\n",
        "print(x is y)\n",
        "print(x is not y)"
      ],
      "metadata": {
        "colab": {
          "base_uri": "https://localhost:8080/"
        },
        "id": "QXVvgVM6WqpE",
        "outputId": "c6f4c8e8-c3ae-41e0-8907-865d6c396958"
      },
      "execution_count": null,
      "outputs": [
        {
          "output_type": "stream",
          "name": "stdout",
          "text": [
            "False\n",
            "True\n",
            "False\n",
            "True\n"
          ]
        }
      ]
    },
    {
      "cell_type": "markdown",
      "source": [
        "14.demonstrate Negative indexing for List and apply slicing"
      ],
      "metadata": {
        "id": "p5HnuU20XFQi"
      }
    },
    {
      "cell_type": "code",
      "source": [
        "list=[1,6.0,2,3.5,10,20,56,5,1.4]\n",
        "print(list[-1])\n",
        "print(list[-4])\n",
        "print(list[-9:-1])\n",
        "print(list[-9::])\n",
        "print(list[::-1])\n",
        "print(list[::])\n",
        "print(list[-9::5])"
      ],
      "metadata": {
        "colab": {
          "base_uri": "https://localhost:8080/"
        },
        "id": "ph0Fb2XoXF0S",
        "outputId": "cae538a8-f073-4f37-c159-b6b75c8308c5"
      },
      "execution_count": null,
      "outputs": [
        {
          "output_type": "stream",
          "name": "stdout",
          "text": [
            "1.4\n",
            "20\n",
            "[1, 6.0, 2, 3.5, 10, 20, 56, 5]\n",
            "[1, 6.0, 2, 3.5, 10, 20, 56, 5, 1.4]\n",
            "[1.4, 5, 56, 20, 10, 3.5, 2, 6.0, 1]\n",
            "[1, 6.0, 2, 3.5, 10, 20, 56, 5, 1.4]\n",
            "[1, 20]\n"
          ]
        }
      ]
    },
    {
      "cell_type": "markdown",
      "source": [
        "15.Predict the output for the given code snippet and justify the result."
      ],
      "metadata": {
        "id": "pefUL09eX05Z"
      }
    },
    {
      "cell_type": "code",
      "source": [
        "print('A series of characters designated as one object known as a string'[::-1][4::3])\n",
        "#[::-1] reverse the whole string and [4::3] reads the string from index 4 and indexjump to the value 3\n",
        "print(\"-------------------------\")\n",
        "print('Welcome to python training program'[3:10][::-1])\n",
        "#[3:10] it starts from 3index and stops at 10index  [::-1]the it will reverse the string"
      ],
      "metadata": {
        "colab": {
          "base_uri": "https://localhost:8080/"
        },
        "id": "pJKmvJ9CX3I3",
        "outputId": "60931111-8590-4043-fc87-e17b19759ffe"
      },
      "execution_count": 31,
      "outputs": [
        {
          "output_type": "stream",
          "name": "stdout",
          "text": [
            "taawkcbe  tgestrcoeeA\n",
            "-------------------------\n",
            "ot emoc\n"
          ]
        }
      ]
    },
    {
      "cell_type": "markdown",
      "source": [
        "16.Write a python code to get desired output\n",
        "Input string:p_phrase=\"was it a car or a cat I saw\"\n",
        "Output string: WAS I TAC A RO RAC A TI SAW"
      ],
      "metadata": {
        "id": "dtG2K77jX82e"
      }
    },
    {
      "cell_type": "code",
      "source": [
        "p_phrase=\"was it a car or a cat I saw\"\n",
        "str=p_phrase.upper()\n",
        "print(str[::-1])"
      ],
      "metadata": {
        "colab": {
          "base_uri": "https://localhost:8080/"
        },
        "id": "KZIYIjtDYMKz",
        "outputId": "de65373f-d358-4039-9b29-c6b364fcfb9e"
      },
      "execution_count": null,
      "outputs": [
        {
          "output_type": "stream",
          "name": "stdout",
          "text": [
            "WAS I TAC A RO RAC A TI SAW\n"
          ]
        }
      ]
    },
    {
      "cell_type": "markdown",
      "source": [
        "17.You are required to generate a word similar to ZOO, X and Y that denote \n",
        "the number of Zs and Os respectively. The generated word similar to ZOO where Y= 2 * X. \n",
        "Input X= 2 Output ZZOOOO \n",
        "Input X= 5 Output ZZZZZOOOOOOOOOO"
      ],
      "metadata": {
        "id": "Pyvnz06gYSIu"
      }
    },
    {
      "cell_type": "code",
      "source": [
        "x=int(input(\"Enter a value\"))\n",
        "y=2*x\n",
        "print('x=',x)\n",
        "print('y=',y)\n",
        "print('Z'*x,'O'*y,sep='')"
      ],
      "metadata": {
        "colab": {
          "base_uri": "https://localhost:8080/"
        },
        "id": "XfkGRdO7YX_A",
        "outputId": "464d17b6-5186-4b74-ceae-f86b141f5956"
      },
      "execution_count": null,
      "outputs": [
        {
          "output_type": "stream",
          "name": "stdout",
          "text": [
            "Enter a value5\n",
            "x= 5\n",
            "y= 10\n",
            "ZZZZZOOOOOOOOOO\n"
          ]
        }
      ]
    }
  ]
}