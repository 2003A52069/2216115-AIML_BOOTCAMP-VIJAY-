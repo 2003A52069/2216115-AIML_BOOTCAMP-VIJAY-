{
  "cells": [
    {
      "cell_type": "markdown",
      "metadata": {
        "id": "view-in-github",
        "colab_type": "text"
      },
      "source": [
        "<a href=\"https://colab.research.google.com/github/2003A52069/2216115-AIML_BOOTCAMP-VIJAY-/blob/main/malaria_dataset_model_.ipynb\" target=\"_parent\"><img src=\"https://colab.research.google.com/assets/colab-badge.svg\" alt=\"Open In Colab\"/></a>"
      ]
    },
    {
      "cell_type": "code",
      "execution_count": null,
      "id": "6adc1e02",
      "metadata": {
        "id": "6adc1e02"
      },
      "outputs": [],
      "source": [
        "import pandas as pd\n",
        "import numpy as np\n",
        "import matplotlib.pyplot as plt\n",
        "import seaborn as sns\n",
        "df=pd.read_csv(r\"/content/drive/MyDrive/outbreak_detect.csv\")\n"
      ]
    },
    {
      "cell_type": "code",
      "source": [
        "from google.colab import drive\n",
        "drive.mount('/content/drive')"
      ],
      "metadata": {
        "colab": {
          "base_uri": "https://localhost:8080/"
        },
        "id": "FieikIvg8faY",
        "outputId": "d40a22fc-0657-47f0-a4ae-903d868ee035"
      },
      "id": "FieikIvg8faY",
      "execution_count": null,
      "outputs": [
        {
          "output_type": "stream",
          "name": "stdout",
          "text": [
            "Drive already mounted at /content/drive; to attempt to forcibly remount, call drive.mount(\"/content/drive\", force_remount=True).\n"
          ]
        }
      ]
    },
    {
      "cell_type": "code",
      "execution_count": null,
      "id": "686b19b0",
      "metadata": {
        "id": "686b19b0"
      },
      "outputs": [],
      "source": [
        "df=df.dropna()"
      ]
    },
    {
      "cell_type": "code",
      "execution_count": null,
      "id": "ff2470b1",
      "metadata": {
        "colab": {
          "base_uri": "https://localhost:8080/",
          "height": 770
        },
        "id": "ff2470b1",
        "outputId": "5de0d7ba-74a6-48a5-9379-89fc0fa91992"
      },
      "outputs": [
        {
          "output_type": "execute_result",
          "data": {
            "text/plain": [
              "    maxTemp  minTemp  avgHumidity  Rainfall  Positive   pf Outbreak\n",
              "0      29.0     18.0        49.74      0.00      2156  112       No\n",
              "1      34.0     23.0        83.27     15.22     10717  677      Yes\n",
              "2      40.0     23.0        50.74      0.00      1257  127       No\n",
              "4      34.0     24.0        59.16      9.06      4198  211       No\n",
              "5      34.0     27.0        73.23      0.00     11808  712      Yes\n",
              "6      31.0     24.0        88.77     41.40     10881  648      Yes\n",
              "7      33.0     24.0        77.94     23.88      8830  459      Yes\n",
              "8      31.0     24.0        84.57     11.15      9693  482       No\n",
              "9      36.0     24.0        53.40      2.12      9310  549       No\n",
              "10     32.0     23.0        57.50      0.00     13154  838      Yes\n",
              "11     34.0     18.0        59.40      0.00      2197  136       No\n",
              "12     42.0     24.0        49.43      2.19      3362  213       No\n",
              "13     45.0     32.0        34.74      0.38       416   26       No\n",
              "14     43.0     28.0        69.07      4.65      7514  410       No\n",
              "15     33.0     23.0        80.97      6.92     10990  390      Yes\n",
              "16     32.0     24.0        87.32     11.92      6536  338       No\n",
              "17     40.0     27.0        63.97      0.00     11169  776      Yes\n",
              "19     39.0     25.0        47.52      0.00      8131  312       No\n",
              "20     36.0     26.0        72.78      3.54      5138  213       No\n",
              "21     31.0     23.0        73.35      4.97     10659  612      Yes\n",
              "22     30.0     23.0        86.81      7.21      9041  418       No\n",
              "23     30.0     22.0        78.80      3.12     11265  404      Yes\n",
              "24     33.0     22.0        73.71      1.75      9233  212       No"
            ],
            "text/html": [
              "\n",
              "  <div id=\"df-eb1a21f2-5dc2-400f-9e56-0a77de242fb0\">\n",
              "    <div class=\"colab-df-container\">\n",
              "      <div>\n",
              "<style scoped>\n",
              "    .dataframe tbody tr th:only-of-type {\n",
              "        vertical-align: middle;\n",
              "    }\n",
              "\n",
              "    .dataframe tbody tr th {\n",
              "        vertical-align: top;\n",
              "    }\n",
              "\n",
              "    .dataframe thead th {\n",
              "        text-align: right;\n",
              "    }\n",
              "</style>\n",
              "<table border=\"1\" class=\"dataframe\">\n",
              "  <thead>\n",
              "    <tr style=\"text-align: right;\">\n",
              "      <th></th>\n",
              "      <th>maxTemp</th>\n",
              "      <th>minTemp</th>\n",
              "      <th>avgHumidity</th>\n",
              "      <th>Rainfall</th>\n",
              "      <th>Positive</th>\n",
              "      <th>pf</th>\n",
              "      <th>Outbreak</th>\n",
              "    </tr>\n",
              "  </thead>\n",
              "  <tbody>\n",
              "    <tr>\n",
              "      <th>0</th>\n",
              "      <td>29.0</td>\n",
              "      <td>18.0</td>\n",
              "      <td>49.74</td>\n",
              "      <td>0.00</td>\n",
              "      <td>2156</td>\n",
              "      <td>112</td>\n",
              "      <td>No</td>\n",
              "    </tr>\n",
              "    <tr>\n",
              "      <th>1</th>\n",
              "      <td>34.0</td>\n",
              "      <td>23.0</td>\n",
              "      <td>83.27</td>\n",
              "      <td>15.22</td>\n",
              "      <td>10717</td>\n",
              "      <td>677</td>\n",
              "      <td>Yes</td>\n",
              "    </tr>\n",
              "    <tr>\n",
              "      <th>2</th>\n",
              "      <td>40.0</td>\n",
              "      <td>23.0</td>\n",
              "      <td>50.74</td>\n",
              "      <td>0.00</td>\n",
              "      <td>1257</td>\n",
              "      <td>127</td>\n",
              "      <td>No</td>\n",
              "    </tr>\n",
              "    <tr>\n",
              "      <th>4</th>\n",
              "      <td>34.0</td>\n",
              "      <td>24.0</td>\n",
              "      <td>59.16</td>\n",
              "      <td>9.06</td>\n",
              "      <td>4198</td>\n",
              "      <td>211</td>\n",
              "      <td>No</td>\n",
              "    </tr>\n",
              "    <tr>\n",
              "      <th>5</th>\n",
              "      <td>34.0</td>\n",
              "      <td>27.0</td>\n",
              "      <td>73.23</td>\n",
              "      <td>0.00</td>\n",
              "      <td>11808</td>\n",
              "      <td>712</td>\n",
              "      <td>Yes</td>\n",
              "    </tr>\n",
              "    <tr>\n",
              "      <th>6</th>\n",
              "      <td>31.0</td>\n",
              "      <td>24.0</td>\n",
              "      <td>88.77</td>\n",
              "      <td>41.40</td>\n",
              "      <td>10881</td>\n",
              "      <td>648</td>\n",
              "      <td>Yes</td>\n",
              "    </tr>\n",
              "    <tr>\n",
              "      <th>7</th>\n",
              "      <td>33.0</td>\n",
              "      <td>24.0</td>\n",
              "      <td>77.94</td>\n",
              "      <td>23.88</td>\n",
              "      <td>8830</td>\n",
              "      <td>459</td>\n",
              "      <td>Yes</td>\n",
              "    </tr>\n",
              "    <tr>\n",
              "      <th>8</th>\n",
              "      <td>31.0</td>\n",
              "      <td>24.0</td>\n",
              "      <td>84.57</td>\n",
              "      <td>11.15</td>\n",
              "      <td>9693</td>\n",
              "      <td>482</td>\n",
              "      <td>No</td>\n",
              "    </tr>\n",
              "    <tr>\n",
              "      <th>9</th>\n",
              "      <td>36.0</td>\n",
              "      <td>24.0</td>\n",
              "      <td>53.40</td>\n",
              "      <td>2.12</td>\n",
              "      <td>9310</td>\n",
              "      <td>549</td>\n",
              "      <td>No</td>\n",
              "    </tr>\n",
              "    <tr>\n",
              "      <th>10</th>\n",
              "      <td>32.0</td>\n",
              "      <td>23.0</td>\n",
              "      <td>57.50</td>\n",
              "      <td>0.00</td>\n",
              "      <td>13154</td>\n",
              "      <td>838</td>\n",
              "      <td>Yes</td>\n",
              "    </tr>\n",
              "    <tr>\n",
              "      <th>11</th>\n",
              "      <td>34.0</td>\n",
              "      <td>18.0</td>\n",
              "      <td>59.40</td>\n",
              "      <td>0.00</td>\n",
              "      <td>2197</td>\n",
              "      <td>136</td>\n",
              "      <td>No</td>\n",
              "    </tr>\n",
              "    <tr>\n",
              "      <th>12</th>\n",
              "      <td>42.0</td>\n",
              "      <td>24.0</td>\n",
              "      <td>49.43</td>\n",
              "      <td>2.19</td>\n",
              "      <td>3362</td>\n",
              "      <td>213</td>\n",
              "      <td>No</td>\n",
              "    </tr>\n",
              "    <tr>\n",
              "      <th>13</th>\n",
              "      <td>45.0</td>\n",
              "      <td>32.0</td>\n",
              "      <td>34.74</td>\n",
              "      <td>0.38</td>\n",
              "      <td>416</td>\n",
              "      <td>26</td>\n",
              "      <td>No</td>\n",
              "    </tr>\n",
              "    <tr>\n",
              "      <th>14</th>\n",
              "      <td>43.0</td>\n",
              "      <td>28.0</td>\n",
              "      <td>69.07</td>\n",
              "      <td>4.65</td>\n",
              "      <td>7514</td>\n",
              "      <td>410</td>\n",
              "      <td>No</td>\n",
              "    </tr>\n",
              "    <tr>\n",
              "      <th>15</th>\n",
              "      <td>33.0</td>\n",
              "      <td>23.0</td>\n",
              "      <td>80.97</td>\n",
              "      <td>6.92</td>\n",
              "      <td>10990</td>\n",
              "      <td>390</td>\n",
              "      <td>Yes</td>\n",
              "    </tr>\n",
              "    <tr>\n",
              "      <th>16</th>\n",
              "      <td>32.0</td>\n",
              "      <td>24.0</td>\n",
              "      <td>87.32</td>\n",
              "      <td>11.92</td>\n",
              "      <td>6536</td>\n",
              "      <td>338</td>\n",
              "      <td>No</td>\n",
              "    </tr>\n",
              "    <tr>\n",
              "      <th>17</th>\n",
              "      <td>40.0</td>\n",
              "      <td>27.0</td>\n",
              "      <td>63.97</td>\n",
              "      <td>0.00</td>\n",
              "      <td>11169</td>\n",
              "      <td>776</td>\n",
              "      <td>Yes</td>\n",
              "    </tr>\n",
              "    <tr>\n",
              "      <th>19</th>\n",
              "      <td>39.0</td>\n",
              "      <td>25.0</td>\n",
              "      <td>47.52</td>\n",
              "      <td>0.00</td>\n",
              "      <td>8131</td>\n",
              "      <td>312</td>\n",
              "      <td>No</td>\n",
              "    </tr>\n",
              "    <tr>\n",
              "      <th>20</th>\n",
              "      <td>36.0</td>\n",
              "      <td>26.0</td>\n",
              "      <td>72.78</td>\n",
              "      <td>3.54</td>\n",
              "      <td>5138</td>\n",
              "      <td>213</td>\n",
              "      <td>No</td>\n",
              "    </tr>\n",
              "    <tr>\n",
              "      <th>21</th>\n",
              "      <td>31.0</td>\n",
              "      <td>23.0</td>\n",
              "      <td>73.35</td>\n",
              "      <td>4.97</td>\n",
              "      <td>10659</td>\n",
              "      <td>612</td>\n",
              "      <td>Yes</td>\n",
              "    </tr>\n",
              "    <tr>\n",
              "      <th>22</th>\n",
              "      <td>30.0</td>\n",
              "      <td>23.0</td>\n",
              "      <td>86.81</td>\n",
              "      <td>7.21</td>\n",
              "      <td>9041</td>\n",
              "      <td>418</td>\n",
              "      <td>No</td>\n",
              "    </tr>\n",
              "    <tr>\n",
              "      <th>23</th>\n",
              "      <td>30.0</td>\n",
              "      <td>22.0</td>\n",
              "      <td>78.80</td>\n",
              "      <td>3.12</td>\n",
              "      <td>11265</td>\n",
              "      <td>404</td>\n",
              "      <td>Yes</td>\n",
              "    </tr>\n",
              "    <tr>\n",
              "      <th>24</th>\n",
              "      <td>33.0</td>\n",
              "      <td>22.0</td>\n",
              "      <td>73.71</td>\n",
              "      <td>1.75</td>\n",
              "      <td>9233</td>\n",
              "      <td>212</td>\n",
              "      <td>No</td>\n",
              "    </tr>\n",
              "  </tbody>\n",
              "</table>\n",
              "</div>\n",
              "      <button class=\"colab-df-convert\" onclick=\"convertToInteractive('df-eb1a21f2-5dc2-400f-9e56-0a77de242fb0')\"\n",
              "              title=\"Convert this dataframe to an interactive table.\"\n",
              "              style=\"display:none;\">\n",
              "        \n",
              "  <svg xmlns=\"http://www.w3.org/2000/svg\" height=\"24px\"viewBox=\"0 0 24 24\"\n",
              "       width=\"24px\">\n",
              "    <path d=\"M0 0h24v24H0V0z\" fill=\"none\"/>\n",
              "    <path d=\"M18.56 5.44l.94 2.06.94-2.06 2.06-.94-2.06-.94-.94-2.06-.94 2.06-2.06.94zm-11 1L8.5 8.5l.94-2.06 2.06-.94-2.06-.94L8.5 2.5l-.94 2.06-2.06.94zm10 10l.94 2.06.94-2.06 2.06-.94-2.06-.94-.94-2.06-.94 2.06-2.06.94z\"/><path d=\"M17.41 7.96l-1.37-1.37c-.4-.4-.92-.59-1.43-.59-.52 0-1.04.2-1.43.59L10.3 9.45l-7.72 7.72c-.78.78-.78 2.05 0 2.83L4 21.41c.39.39.9.59 1.41.59.51 0 1.02-.2 1.41-.59l7.78-7.78 2.81-2.81c.8-.78.8-2.07 0-2.86zM5.41 20L4 18.59l7.72-7.72 1.47 1.35L5.41 20z\"/>\n",
              "  </svg>\n",
              "      </button>\n",
              "      \n",
              "  <style>\n",
              "    .colab-df-container {\n",
              "      display:flex;\n",
              "      flex-wrap:wrap;\n",
              "      gap: 12px;\n",
              "    }\n",
              "\n",
              "    .colab-df-convert {\n",
              "      background-color: #E8F0FE;\n",
              "      border: none;\n",
              "      border-radius: 50%;\n",
              "      cursor: pointer;\n",
              "      display: none;\n",
              "      fill: #1967D2;\n",
              "      height: 32px;\n",
              "      padding: 0 0 0 0;\n",
              "      width: 32px;\n",
              "    }\n",
              "\n",
              "    .colab-df-convert:hover {\n",
              "      background-color: #E2EBFA;\n",
              "      box-shadow: 0px 1px 2px rgba(60, 64, 67, 0.3), 0px 1px 3px 1px rgba(60, 64, 67, 0.15);\n",
              "      fill: #174EA6;\n",
              "    }\n",
              "\n",
              "    [theme=dark] .colab-df-convert {\n",
              "      background-color: #3B4455;\n",
              "      fill: #D2E3FC;\n",
              "    }\n",
              "\n",
              "    [theme=dark] .colab-df-convert:hover {\n",
              "      background-color: #434B5C;\n",
              "      box-shadow: 0px 1px 3px 1px rgba(0, 0, 0, 0.15);\n",
              "      filter: drop-shadow(0px 1px 2px rgba(0, 0, 0, 0.3));\n",
              "      fill: #FFFFFF;\n",
              "    }\n",
              "  </style>\n",
              "\n",
              "      <script>\n",
              "        const buttonEl =\n",
              "          document.querySelector('#df-eb1a21f2-5dc2-400f-9e56-0a77de242fb0 button.colab-df-convert');\n",
              "        buttonEl.style.display =\n",
              "          google.colab.kernel.accessAllowed ? 'block' : 'none';\n",
              "\n",
              "        async function convertToInteractive(key) {\n",
              "          const element = document.querySelector('#df-eb1a21f2-5dc2-400f-9e56-0a77de242fb0');\n",
              "          const dataTable =\n",
              "            await google.colab.kernel.invokeFunction('convertToInteractive',\n",
              "                                                     [key], {});\n",
              "          if (!dataTable) return;\n",
              "\n",
              "          const docLinkHtml = 'Like what you see? Visit the ' +\n",
              "            '<a target=\"_blank\" href=https://colab.research.google.com/notebooks/data_table.ipynb>data table notebook</a>'\n",
              "            + ' to learn more about interactive tables.';\n",
              "          element.innerHTML = '';\n",
              "          dataTable['output_type'] = 'display_data';\n",
              "          await google.colab.output.renderOutput(dataTable, element);\n",
              "          const docLink = document.createElement('div');\n",
              "          docLink.innerHTML = docLinkHtml;\n",
              "          element.appendChild(docLink);\n",
              "        }\n",
              "      </script>\n",
              "    </div>\n",
              "  </div>\n",
              "  "
            ]
          },
          "metadata": {},
          "execution_count": 8
        }
      ],
      "source": [
        "df.head(30)"
      ]
    },
    {
      "cell_type": "code",
      "execution_count": null,
      "id": "40d0db71",
      "metadata": {
        "colab": {
          "base_uri": "https://localhost:8080/"
        },
        "id": "40d0db71",
        "outputId": "a4a48ec1-b6dc-42fd-e678-fc4c1bd45d42"
      },
      "outputs": [
        {
          "output_type": "execute_result",
          "data": {
            "text/plain": [
              "(23, 7)"
            ]
          },
          "metadata": {},
          "execution_count": 9
        }
      ],
      "source": [
        "df.shape"
      ]
    },
    {
      "cell_type": "code",
      "execution_count": null,
      "id": "87a98cdc",
      "metadata": {
        "id": "87a98cdc"
      },
      "outputs": [],
      "source": [
        "from sklearn import preprocessing  \n",
        "\n",
        "\n",
        "\n",
        "#labelencodingg\n",
        "\n",
        "LE=preprocessing.LabelEncoder()\n",
        "\n",
        "#fitting it to our dataset\n",
        "\n",
        "df.Outbreak=LE.fit_transform(df.Outbreak)"
      ]
    },
    {
      "cell_type": "code",
      "execution_count": null,
      "id": "166f5e5a",
      "metadata": {
        "id": "166f5e5a"
      },
      "outputs": [],
      "source": [
        ""
      ]
    },
    {
      "cell_type": "code",
      "execution_count": null,
      "id": "7a68fb8f",
      "metadata": {
        "colab": {
          "base_uri": "https://localhost:8080/"
        },
        "id": "7a68fb8f",
        "outputId": "4065b368-bd4c-43c1-fd55-86b54fd1e474"
      },
      "outputs": [
        {
          "output_type": "execute_result",
          "data": {
            "text/plain": [
              "(array([[2.9000e+01, 1.8000e+01, 4.9740e+01, 0.0000e+00, 2.1560e+03,\n",
              "         1.1200e+02],\n",
              "        [3.4000e+01, 2.3000e+01, 8.3270e+01, 1.5220e+01, 1.0717e+04,\n",
              "         6.7700e+02],\n",
              "        [4.0000e+01, 2.3000e+01, 5.0740e+01, 0.0000e+00, 1.2570e+03,\n",
              "         1.2700e+02],\n",
              "        [3.4000e+01, 2.4000e+01, 5.9160e+01, 9.0600e+00, 4.1980e+03,\n",
              "         2.1100e+02],\n",
              "        [3.4000e+01, 2.7000e+01, 7.3230e+01, 0.0000e+00, 1.1808e+04,\n",
              "         7.1200e+02],\n",
              "        [3.1000e+01, 2.4000e+01, 8.8770e+01, 4.1400e+01, 1.0881e+04,\n",
              "         6.4800e+02],\n",
              "        [3.3000e+01, 2.4000e+01, 7.7940e+01, 2.3880e+01, 8.8300e+03,\n",
              "         4.5900e+02],\n",
              "        [3.1000e+01, 2.4000e+01, 8.4570e+01, 1.1150e+01, 9.6930e+03,\n",
              "         4.8200e+02],\n",
              "        [3.6000e+01, 2.4000e+01, 5.3400e+01, 2.1200e+00, 9.3100e+03,\n",
              "         5.4900e+02],\n",
              "        [3.2000e+01, 2.3000e+01, 5.7500e+01, 0.0000e+00, 1.3154e+04,\n",
              "         8.3800e+02],\n",
              "        [3.4000e+01, 1.8000e+01, 5.9400e+01, 0.0000e+00, 2.1970e+03,\n",
              "         1.3600e+02],\n",
              "        [4.2000e+01, 2.4000e+01, 4.9430e+01, 2.1900e+00, 3.3620e+03,\n",
              "         2.1300e+02],\n",
              "        [4.5000e+01, 3.2000e+01, 3.4740e+01, 3.8000e-01, 4.1600e+02,\n",
              "         2.6000e+01],\n",
              "        [4.3000e+01, 2.8000e+01, 6.9070e+01, 4.6500e+00, 7.5140e+03,\n",
              "         4.1000e+02],\n",
              "        [3.3000e+01, 2.3000e+01, 8.0970e+01, 6.9200e+00, 1.0990e+04,\n",
              "         3.9000e+02],\n",
              "        [3.2000e+01, 2.4000e+01, 8.7320e+01, 1.1920e+01, 6.5360e+03,\n",
              "         3.3800e+02],\n",
              "        [4.0000e+01, 2.7000e+01, 6.3970e+01, 0.0000e+00, 1.1169e+04,\n",
              "         7.7600e+02],\n",
              "        [3.9000e+01, 2.5000e+01, 4.7520e+01, 0.0000e+00, 8.1310e+03,\n",
              "         3.1200e+02],\n",
              "        [3.6000e+01, 2.6000e+01, 7.2780e+01, 3.5400e+00, 5.1380e+03,\n",
              "         2.1300e+02],\n",
              "        [3.1000e+01, 2.3000e+01, 7.3350e+01, 4.9700e+00, 1.0659e+04,\n",
              "         6.1200e+02],\n",
              "        [3.0000e+01, 2.3000e+01, 8.6810e+01, 7.2100e+00, 9.0410e+03,\n",
              "         4.1800e+02],\n",
              "        [3.0000e+01, 2.2000e+01, 7.8800e+01, 3.1200e+00, 1.1265e+04,\n",
              "         4.0400e+02],\n",
              "        [3.3000e+01, 2.2000e+01, 7.3710e+01, 1.7500e+00, 9.2330e+03,\n",
              "         2.1200e+02]]), array([[0],\n",
              "        [1],\n",
              "        [0],\n",
              "        [0],\n",
              "        [1],\n",
              "        [1],\n",
              "        [1],\n",
              "        [0],\n",
              "        [0],\n",
              "        [1],\n",
              "        [0],\n",
              "        [0],\n",
              "        [0],\n",
              "        [0],\n",
              "        [1],\n",
              "        [0],\n",
              "        [1],\n",
              "        [0],\n",
              "        [0],\n",
              "        [1],\n",
              "        [0],\n",
              "        [1],\n",
              "        [0]]))"
            ]
          },
          "metadata": {},
          "execution_count": 11
        }
      ],
      "source": [
        "X=df.iloc[:,:-1].values\n",
        "Y=df.iloc[:,-1:].values\n",
        "X,Y"
      ]
    },
    {
      "cell_type": "code",
      "execution_count": null,
      "id": "4d7dca77",
      "metadata": {
        "id": "4d7dca77"
      },
      "outputs": [],
      "source": [
        "from sklearn.model_selection import train_test_split\n",
        "X_train,X_test,y_train,y_test= train_test_split(X,Y,test_size=0.2,random_state=0)"
      ]
    },
    {
      "cell_type": "code",
      "execution_count": null,
      "id": "37b3a976",
      "metadata": {
        "scrolled": true,
        "colab": {
          "base_uri": "https://localhost:8080/"
        },
        "id": "37b3a976",
        "outputId": "05abaa04-d07c-461b-adf1-feaf56634c4d"
      },
      "outputs": [
        {
          "output_type": "stream",
          "name": "stderr",
          "text": [
            "/usr/local/lib/python3.7/dist-packages/sklearn/neighbors/_classification.py:198: DataConversionWarning: A column-vector y was passed when a 1d array was expected. Please change the shape of y to (n_samples,), for example using ravel().\n",
            "  return self._fit(X, y)\n"
          ]
        },
        {
          "output_type": "execute_result",
          "data": {
            "text/plain": [
              "KNeighborsClassifier()"
            ]
          },
          "metadata": {},
          "execution_count": 13
        }
      ],
      "source": [
        "from sklearn.neighbors import KNeighborsClassifier\n",
        "model=KNeighborsClassifier()\n",
        "model.fit(X_train,y_train)"
      ]
    },
    {
      "cell_type": "code",
      "execution_count": null,
      "id": "a2e79f38",
      "metadata": {
        "colab": {
          "base_uri": "https://localhost:8080/"
        },
        "id": "a2e79f38",
        "outputId": "2bed91cb-fd9a-4313-cb3f-cbd3243c0456"
      },
      "outputs": [
        {
          "output_type": "stream",
          "name": "stdout",
          "text": [
            "[[0 0]\n",
            " [0 0]\n",
            " [1 1]\n",
            " [1 1]\n",
            " [0 0]]\n"
          ]
        }
      ],
      "source": [
        "y_pred = model.predict(X_test)\n",
        "print(np.concatenate((y_pred.reshape(len(y_pred),1), y_test.reshape(len(y_test),1)),1))"
      ]
    },
    {
      "cell_type": "code",
      "execution_count": null,
      "id": "a4db03e9",
      "metadata": {
        "colab": {
          "base_uri": "https://localhost:8080/"
        },
        "id": "a4db03e9",
        "outputId": "b92f8fa4-2145-4abd-8171-144d5f8e42c4"
      },
      "outputs": [
        {
          "output_type": "stream",
          "name": "stdout",
          "text": [
            "predicted value for training data 0.9444444444444444\n",
            "predicted value for testing data 1.0\n"
          ]
        }
      ],
      "source": [
        "print(\"predicted value for training data\",model.score(X_train,y_train))\n",
        "print(\"predicted value for testing data\",model.score(X_test,y_test))"
      ]
    },
    {
      "cell_type": "code",
      "execution_count": null,
      "id": "508b3032",
      "metadata": {
        "colab": {
          "base_uri": "https://localhost:8080/"
        },
        "id": "508b3032",
        "outputId": "1f7b105d-6df0-4fdb-a7b4-5989558940f4"
      },
      "outputs": [
        {
          "output_type": "stream",
          "name": "stdout",
          "text": [
            "[[3 0]\n",
            " [0 2]]\n"
          ]
        },
        {
          "output_type": "execute_result",
          "data": {
            "text/plain": [
              "1.0"
            ]
          },
          "metadata": {},
          "execution_count": 16
        }
      ],
      "source": [
        "from sklearn.metrics import confusion_matrix,accuracy_score\n",
        "\n",
        "cm = confusion_matrix(y_test, y_pred)\n",
        "\n",
        "print(cm)\n",
        "\n",
        "accuracy_score(y_test, y_pred)"
      ]
    },
    {
      "cell_type": "code",
      "execution_count": null,
      "id": "66df9eb2",
      "metadata": {
        "colab": {
          "base_uri": "https://localhost:8080/"
        },
        "id": "66df9eb2",
        "outputId": "aed23bb6-edf5-4f4c-9c66-782e5ce815e5"
      },
      "outputs": [
        {
          "output_type": "stream",
          "name": "stdout",
          "text": [
            "overall accuracy of the model is 95.65217391304348\n"
          ]
        }
      ],
      "source": [
        "accuracy=model.score(X,Y)*100\n",
        "print(\"overall accuracy of the model is\",accuracy)"
      ]
    },
    {
      "cell_type": "code",
      "execution_count": null,
      "id": "b1e052c8",
      "metadata": {
        "id": "b1e052c8"
      },
      "outputs": [],
      "source": [
        ""
      ]
    }
  ],
  "metadata": {
    "kernelspec": {
      "display_name": "Python 3 (ipykernel)",
      "language": "python",
      "name": "python3"
    },
    "language_info": {
      "codemirror_mode": {
        "name": "ipython",
        "version": 3
      },
      "file_extension": ".py",
      "mimetype": "text/x-python",
      "name": "python",
      "nbconvert_exporter": "python",
      "pygments_lexer": "ipython3",
      "version": "3.9.7"
    },
    "colab": {
      "name": "malaria dataset model .ipynb",
      "provenance": [],
      "include_colab_link": true
    }
  },
  "nbformat": 4,
  "nbformat_minor": 5
}