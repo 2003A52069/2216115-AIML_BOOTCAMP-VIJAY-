{
  "nbformat": 4,
  "nbformat_minor": 0,
  "metadata": {
    "colab": {
      "name": "day 2 (bootcamp_aiml).ipynb",
      "provenance": [],
      "authorship_tag": "ABX9TyM1Cdyo8k2Ped0Xpjl+q+E0",
      "include_colab_link": true
    },
    "kernelspec": {
      "name": "python3",
      "display_name": "Python 3"
    },
    "language_info": {
      "name": "python"
    }
  },
  "cells": [
    {
      "cell_type": "markdown",
      "metadata": {
        "id": "view-in-github",
        "colab_type": "text"
      },
      "source": [
        "<a href=\"https://colab.research.google.com/github/2003A52069/2216115-AIML_BOOTCAMP-VIJAY-/blob/main/day_2_(bootcamp_aiml).ipynb\" target=\"_parent\"><img src=\"https://colab.research.google.com/assets/colab-badge.svg\" alt=\"Open In Colab\"/></a>"
      ]
    },
    {
      "cell_type": "code",
      "execution_count": null,
      "metadata": {
        "id": "wijqVFOSkDsw"
      },
      "outputs": [],
      "source": [
        ""
      ]
    },
    {
      "cell_type": "code",
      "source": [
        "\n",
        "\n",
        "num = 3\n",
        "if num > 0:\n",
        "    print(\" positive number.\")\n",
        "\n",
        "\n",
        "num1 = -1\n",
        "if num >0:\n",
        "    print(num1,\" negative number.\")\n"
      ],
      "metadata": {
        "colab": {
          "base_uri": "https://localhost:8080/"
        },
        "id": "VQdLhC6ekJNP",
        "outputId": "551a8c45-e757-4b16-dda0-f48550618107"
      },
      "execution_count": null,
      "outputs": [
        {
          "output_type": "stream",
          "name": "stdout",
          "text": [
            " positive number.\n",
            "-1  negative number.\n"
          ]
        }
      ]
    },
    {
      "cell_type": "code",
      "source": [
        "\n",
        "num = int(input(\"Enter a number: \"))\n",
        "if num >= 0:\n",
        "    if num == 0:\n",
        "        print(\"Zero\")\n",
        "    else:\n",
        "        print(\"Positive number\")\n",
        "else:\n",
        "    print(\"Negative number\")"
      ],
      "metadata": {
        "colab": {
          "base_uri": "https://localhost:8080/"
        },
        "id": "S_V_fPGmnJ17",
        "outputId": "f8df04af-66c3-4fd8-d650-9e00987b5d86"
      },
      "execution_count": null,
      "outputs": [
        {
          "output_type": "stream",
          "name": "stdout",
          "text": [
            "Enter a number: 4\n",
            "Positive number\n"
          ]
        }
      ]
    },
    {
      "cell_type": "code",
      "source": [
        "\n",
        "num = 389\n",
        "if num >= 0:\n",
        "    print(\"Positive or Zero\")\n",
        "else:\n",
        "    print(\"Negative number\")"
      ],
      "metadata": {
        "colab": {
          "base_uri": "https://localhost:8080/"
        },
        "id": "MdvjgzhGkuZ5",
        "outputId": "b8b2e1f5-962c-48ed-dbf1-99ca4ddcc0a9"
      },
      "execution_count": null,
      "outputs": [
        {
          "output_type": "stream",
          "name": "stdout",
          "text": [
            "Positive or Zero\n"
          ]
        }
      ]
    },
    {
      "cell_type": "code",
      "source": [
        "\n",
        "numbers = [6, 5, 3, 8, 4, 2, 5, 4, 11]\n",
        "sum = 0\n",
        "for val in numbers:\n",
        "    sum = sum+val\n",
        "print(\"The sum is\", sum)"
      ],
      "metadata": {
        "colab": {
          "base_uri": "https://localhost:8080/"
        },
        "id": "njNn4Odpoxob",
        "outputId": "5948dc0c-21bd-4686-beb1-ab0587cefa3b"
      },
      "execution_count": null,
      "outputs": [
        {
          "output_type": "stream",
          "name": "stdout",
          "text": [
            "The sum is 48\n"
          ]
        }
      ]
    },
    {
      "cell_type": "code",
      "source": [
        "fruits=['apple','banana','grapes']\n",
        "for index in range(len(fruits)):\n",
        "  print('current fruits:',fruits[index])"
      ],
      "metadata": {
        "colab": {
          "base_uri": "https://localhost:8080/"
        },
        "id": "Hi75U9_2nPWV",
        "outputId": "a22f117b-aacf-4e65-8984-ccd472ee8ea0"
      },
      "execution_count": null,
      "outputs": [
        {
          "output_type": "stream",
          "name": "stdout",
          "text": [
            "current fruits: apple\n",
            "current fruits: banana\n",
            "current fruits: grapes\n"
          ]
        }
      ]
    },
    {
      "cell_type": "code",
      "source": [
        "#while\n",
        "count=0\n",
        "while(count<11):\n",
        "  print('the count is',count)\n",
        "  count=count+1"
      ],
      "metadata": {
        "colab": {
          "base_uri": "https://localhost:8080/"
        },
        "id": "TDt8o0UJoXkJ",
        "outputId": "b75779cd-9faf-4a00-8c26-48387d1b34bf"
      },
      "execution_count": null,
      "outputs": [
        {
          "output_type": "stream",
          "name": "stdout",
          "text": [
            "the count is 0\n",
            "the count is 1\n",
            "the count is 2\n",
            "the count is 3\n",
            "the count is 4\n",
            "the count is 5\n",
            "the count is 6\n",
            "the count is 7\n",
            "the count is 8\n",
            "the count is 9\n",
            "the count is 10\n"
          ]
        }
      ]
    },
    {
      "cell_type": "code",
      "source": [
        "\n",
        "\n",
        "counter = 0\n",
        "\n",
        "while counter < 1:\n",
        "    print(\"less than 1\")\n",
        "    counter = counter + 1\n",
        "else:\n",
        "    print(\"greater than 1\")"
      ],
      "metadata": {
        "colab": {
          "base_uri": "https://localhost:8080/"
        },
        "id": "IUvC5T3po4c1",
        "outputId": "7b1972fe-c6bd-4fe9-eaf8-02f2c4ce847a"
      },
      "execution_count": null,
      "outputs": [
        {
          "output_type": "stream",
          "name": "stdout",
          "text": [
            "less than 1\n",
            "greater than 1\n"
          ]
        }
      ]
    },
    {
      "cell_type": "code",
      "source": [
        "#nested loops\n",
        "x=[[12,7,3],\n",
        "   [4,5,6],\n",
        "   [7,8,9]]\n",
        "\n",
        "y=[[5,8,1],[1,1,0],[5,3,7]]\n",
        "\n",
        "res=[[0,0,0],[0,0,0],[0,0,0]]\n",
        "for i in range(len(x)):\n",
        " for j in range(len(x[0])):\n",
        "       res[i][j]=x[i][j]+y[i][j]\n",
        "       for r in res:\n",
        "         print(r)\n"
      ],
      "metadata": {
        "id": "sQddc9Jirc2n",
        "colab": {
          "base_uri": "https://localhost:8080/"
        },
        "outputId": "2226c545-92f5-42a2-82db-ccef33ea7783"
      },
      "execution_count": null,
      "outputs": [
        {
          "output_type": "stream",
          "name": "stdout",
          "text": [
            "[17, 0, 0]\n",
            "[0, 0, 0]\n",
            "[0, 0, 0]\n",
            "[17, 15, 0]\n",
            "[0, 0, 0]\n",
            "[0, 0, 0]\n",
            "[17, 15, 4]\n",
            "[0, 0, 0]\n",
            "[0, 0, 0]\n",
            "[17, 15, 4]\n",
            "[5, 0, 0]\n",
            "[0, 0, 0]\n",
            "[17, 15, 4]\n",
            "[5, 6, 0]\n",
            "[0, 0, 0]\n",
            "[17, 15, 4]\n",
            "[5, 6, 6]\n",
            "[0, 0, 0]\n",
            "[17, 15, 4]\n",
            "[5, 6, 6]\n",
            "[12, 0, 0]\n",
            "[17, 15, 4]\n",
            "[5, 6, 6]\n",
            "[12, 11, 0]\n",
            "[17, 15, 4]\n",
            "[5, 6, 6]\n",
            "[12, 11, 16]\n"
          ]
        }
      ]
    },
    {
      "cell_type": "code",
      "source": [
        "#nested loops\n",
        "x=[[12,7,3],\n",
        "   [4,5,6],\n",
        "   [7,8,9]]\n",
        "\n",
        "y=[[5,8,1],[1,1,0],[5,3,7]]\n",
        "\n",
        "res=[[0,0,0],[0,0,0],[0,0,0]]\n",
        "for i in range(len(x)):\n",
        " for j in range(len(x[0])):\n",
        "       res[i][j]=x[i][j]-y[i][j]\n",
        "       for r in res:\n",
        "         print(r)\n"
      ],
      "metadata": {
        "colab": {
          "base_uri": "https://localhost:8080/"
        },
        "id": "daR9rIuOu0P6",
        "outputId": "5c6ea409-5398-4287-dcfb-675d91c612bb"
      },
      "execution_count": null,
      "outputs": [
        {
          "output_type": "stream",
          "name": "stdout",
          "text": [
            "[7, 0, 0]\n",
            "[0, 0, 0]\n",
            "[0, 0, 0]\n",
            "[7, -1, 0]\n",
            "[0, 0, 0]\n",
            "[0, 0, 0]\n",
            "[7, -1, 2]\n",
            "[0, 0, 0]\n",
            "[0, 0, 0]\n",
            "[7, -1, 2]\n",
            "[3, 0, 0]\n",
            "[0, 0, 0]\n",
            "[7, -1, 2]\n",
            "[3, 4, 0]\n",
            "[0, 0, 0]\n",
            "[7, -1, 2]\n",
            "[3, 4, 6]\n",
            "[0, 0, 0]\n",
            "[7, -1, 2]\n",
            "[3, 4, 6]\n",
            "[2, 0, 0]\n",
            "[7, -1, 2]\n",
            "[3, 4, 6]\n",
            "[2, 5, 0]\n",
            "[7, -1, 2]\n",
            "[3, 4, 6]\n",
            "[2, 5, 2]\n"
          ]
        }
      ]
    },
    {
      "cell_type": "code",
      "source": [
        "for i in range(1,11):\n",
        "    print(\"\\n\\nMULTIPLICATION TABLE FOR %d\\n\" %(i))\n",
        "    for j in range(1,11):\n",
        "        print(\"%-5d X %5d = %5d\" % (i, j, i*j))"
      ],
      "metadata": {
        "colab": {
          "base_uri": "https://localhost:8080/"
        },
        "id": "xA6x1n3cwclL",
        "outputId": "589ded83-ce00-4160-ca95-f21378961c7f"
      },
      "execution_count": null,
      "outputs": [
        {
          "output_type": "stream",
          "name": "stdout",
          "text": [
            "\n",
            "\n",
            "MULTIPLICATION TABLE FOR 1\n",
            "\n",
            "1     X     1 =     1\n",
            "1     X     2 =     2\n",
            "1     X     3 =     3\n",
            "1     X     4 =     4\n",
            "1     X     5 =     5\n",
            "1     X     6 =     6\n",
            "1     X     7 =     7\n",
            "1     X     8 =     8\n",
            "1     X     9 =     9\n",
            "1     X    10 =    10\n",
            "\n",
            "\n",
            "MULTIPLICATION TABLE FOR 2\n",
            "\n",
            "2     X     1 =     2\n",
            "2     X     2 =     4\n",
            "2     X     3 =     6\n",
            "2     X     4 =     8\n",
            "2     X     5 =    10\n",
            "2     X     6 =    12\n",
            "2     X     7 =    14\n",
            "2     X     8 =    16\n",
            "2     X     9 =    18\n",
            "2     X    10 =    20\n",
            "\n",
            "\n",
            "MULTIPLICATION TABLE FOR 3\n",
            "\n",
            "3     X     1 =     3\n",
            "3     X     2 =     6\n",
            "3     X     3 =     9\n",
            "3     X     4 =    12\n",
            "3     X     5 =    15\n",
            "3     X     6 =    18\n",
            "3     X     7 =    21\n",
            "3     X     8 =    24\n",
            "3     X     9 =    27\n",
            "3     X    10 =    30\n",
            "\n",
            "\n",
            "MULTIPLICATION TABLE FOR 4\n",
            "\n",
            "4     X     1 =     4\n",
            "4     X     2 =     8\n",
            "4     X     3 =    12\n",
            "4     X     4 =    16\n",
            "4     X     5 =    20\n",
            "4     X     6 =    24\n",
            "4     X     7 =    28\n",
            "4     X     8 =    32\n",
            "4     X     9 =    36\n",
            "4     X    10 =    40\n",
            "\n",
            "\n",
            "MULTIPLICATION TABLE FOR 5\n",
            "\n",
            "5     X     1 =     5\n",
            "5     X     2 =    10\n",
            "5     X     3 =    15\n",
            "5     X     4 =    20\n",
            "5     X     5 =    25\n",
            "5     X     6 =    30\n",
            "5     X     7 =    35\n",
            "5     X     8 =    40\n",
            "5     X     9 =    45\n",
            "5     X    10 =    50\n",
            "\n",
            "\n",
            "MULTIPLICATION TABLE FOR 6\n",
            "\n",
            "6     X     1 =     6\n",
            "6     X     2 =    12\n",
            "6     X     3 =    18\n",
            "6     X     4 =    24\n",
            "6     X     5 =    30\n",
            "6     X     6 =    36\n",
            "6     X     7 =    42\n",
            "6     X     8 =    48\n",
            "6     X     9 =    54\n",
            "6     X    10 =    60\n",
            "\n",
            "\n",
            "MULTIPLICATION TABLE FOR 7\n",
            "\n",
            "7     X     1 =     7\n",
            "7     X     2 =    14\n",
            "7     X     3 =    21\n",
            "7     X     4 =    28\n",
            "7     X     5 =    35\n",
            "7     X     6 =    42\n",
            "7     X     7 =    49\n",
            "7     X     8 =    56\n",
            "7     X     9 =    63\n",
            "7     X    10 =    70\n",
            "\n",
            "\n",
            "MULTIPLICATION TABLE FOR 8\n",
            "\n",
            "8     X     1 =     8\n",
            "8     X     2 =    16\n",
            "8     X     3 =    24\n",
            "8     X     4 =    32\n",
            "8     X     5 =    40\n",
            "8     X     6 =    48\n",
            "8     X     7 =    56\n",
            "8     X     8 =    64\n",
            "8     X     9 =    72\n",
            "8     X    10 =    80\n",
            "\n",
            "\n",
            "MULTIPLICATION TABLE FOR 9\n",
            "\n",
            "9     X     1 =     9\n",
            "9     X     2 =    18\n",
            "9     X     3 =    27\n",
            "9     X     4 =    36\n",
            "9     X     5 =    45\n",
            "9     X     6 =    54\n",
            "9     X     7 =    63\n",
            "9     X     8 =    72\n",
            "9     X     9 =    81\n",
            "9     X    10 =    90\n",
            "\n",
            "\n",
            "MULTIPLICATION TABLE FOR 10\n",
            "\n",
            "10    X     1 =    10\n",
            "10    X     2 =    20\n",
            "10    X     3 =    30\n",
            "10    X     4 =    40\n",
            "10    X     5 =    50\n",
            "10    X     6 =    60\n",
            "10    X     7 =    70\n",
            "10    X     8 =    80\n",
            "10    X     9 =    90\n",
            "10    X    10 =   100\n"
          ]
        }
      ]
    },
    {
      "cell_type": "code",
      "source": [
        "num=int(input(\"enter the table numbers\"))\n",
        "i=1\n",
        "while(i<=num):\n",
        "  print(f\"table {i}\")\n",
        "  j=1\n",
        "  while(j<=10):\n",
        "    print(f\"{i} * {j}={i*j}\")\n",
        "    j=j+1\n",
        "    print(\"_________________________\")\n",
        "    i=i+1"
      ],
      "metadata": {
        "colab": {
          "base_uri": "https://localhost:8080/"
        },
        "id": "K9gxIBkzxio7",
        "outputId": "1b62216a-526a-44e7-ff83-f13c75b36a9c"
      },
      "execution_count": null,
      "outputs": [
        {
          "output_type": "stream",
          "name": "stdout",
          "text": [
            "enter the table numbers10\n",
            "table 1\n",
            "1 * 1=1\n",
            "_________________________\n",
            "2 * 2=4\n",
            "_________________________\n",
            "3 * 3=9\n",
            "_________________________\n",
            "4 * 4=16\n",
            "_________________________\n",
            "5 * 5=25\n",
            "_________________________\n",
            "6 * 6=36\n",
            "_________________________\n",
            "7 * 7=49\n",
            "_________________________\n",
            "8 * 8=64\n",
            "_________________________\n",
            "9 * 9=81\n",
            "_________________________\n",
            "10 * 10=100\n",
            "_________________________\n"
          ]
        }
      ]
    },
    {
      "cell_type": "code",
      "source": [
        "#control statments \n",
        "# break\n",
        "\n",
        "for l in 'python':\n",
        "  if l == 'h':\n",
        "    break\n",
        "    print(\"curren letter:\",l)\n",
        "\n",
        "    \n",
        "    "
      ],
      "metadata": {
        "id": "xKQSAtcH3cgJ"
      },
      "execution_count": null,
      "outputs": []
    },
    {
      "cell_type": "code",
      "source": [
        "num=int(input(\"Enter a number:\"))\n",
        "temp=num\n",
        "rev=0\n",
        "while(num>0):\n",
        "    dig=num%10\n",
        "    rev=rev*10+dig\n",
        "    num=num//10\n",
        "if(temp==rev):\n",
        "    print(\"The number is palindrome!\")\n",
        "else:\n",
        "    print(\"Not a palindrome!\")\n"
      ],
      "metadata": {
        "id": "m15Z545y3niL",
        "colab": {
          "base_uri": "https://localhost:8080/"
        },
        "outputId": "a3c7bbe0-098b-4ca2-9fc0-ec60902df964"
      },
      "execution_count": null,
      "outputs": [
        {
          "output_type": "stream",
          "name": "stdout",
          "text": [
            "Enter a number:171\n",
            "The number is palindrome!\n"
          ]
        }
      ]
    },
    {
      "cell_type": "code",
      "source": [
        "marks = int(input(\"Enter your marks : \"))\n",
        "\n",
        "if marks >= 90:\n",
        "    print(\"Grade: O\")\n",
        "elif marks >= 80 and marks < 90:\n",
        "    print(\"Grade: A+\")\n",
        "elif marks >= 70 and marks < 80:\n",
        "    print(\"Grade: A\")\n",
        "elif marks >= 60 and marks < 70:\n",
        "    print(\"Grade: B\")\n",
        "else:\n",
        "    print(\"Grade: c\")"
      ],
      "metadata": {
        "colab": {
          "base_uri": "https://localhost:8080/"
        },
        "id": "dD1OI95cCW8Q",
        "outputId": "945ff917-15e8-4c57-b229-edaf6177d17e"
      },
      "execution_count": null,
      "outputs": [
        {
          "output_type": "stream",
          "name": "stdout",
          "text": [
            "Enter your marks : 20\n",
            "Grade: c\n"
          ]
        }
      ]
    },
    {
      "cell_type": "code",
      "source": [
        "string=input((\"Enter a string:\"))\n",
        "if(string==string[::-1]):\n",
        "      print(\"The string is a palindrome\")\n",
        "else:\n",
        "      print(\"Not a palindrome\")"
      ],
      "metadata": {
        "id": "Tit4nkps8N9l"
      },
      "execution_count": null,
      "outputs": []
    },
    {
      "cell_type": "code",
      "source": [
        "1+1"
      ],
      "metadata": {
        "colab": {
          "base_uri": "https://localhost:8080/"
        },
        "id": "ThBVpxL1cP6-",
        "outputId": "5f780035-8827-48cd-8c8f-d9212221dc28"
      },
      "execution_count": 55,
      "outputs": [
        {
          "output_type": "execute_result",
          "data": {
            "text/plain": [
              "2"
            ]
          },
          "metadata": {},
          "execution_count": 55
        }
      ]
    },
    {
      "cell_type": "code",
      "source": [
        "def greet(name):\n",
        "  '''this function greets'''\n",
        "  print(\"Hello,\\t\"+name+\"\\tgood morning\")\n",
        "  greet(\"srk\")"
      ],
      "metadata": {
        "id": "YI3wyd3kbaXx"
      },
      "execution_count": 53,
      "outputs": []
    },
    {
      "cell_type": "markdown",
      "source": [
        ""
      ],
      "metadata": {
        "id": "pv17YfpfciBr"
      }
    },
    {
      "cell_type": "code",
      "source": [
        "def A(a,b=1,c=2):\n",
        " return a+b+c\n",
        "print(A(3))\n",
        "print(A(4,4,4))\n",
        "print(A(2,2))"
      ],
      "metadata": {
        "colab": {
          "base_uri": "https://localhost:8080/"
        },
        "id": "k8DpiWc5bxnd",
        "outputId": "fe2e3c69-4e24-4282-e2c2-b21ac41dcacb"
      },
      "execution_count": 57,
      "outputs": [
        {
          "output_type": "stream",
          "name": "stdout",
          "text": [
            "6\n",
            "12\n",
            "6\n"
          ]
        }
      ]
    },
    {
      "cell_type": "code",
      "source": [
        "def key_arg(**kwargs):\n",
        "  return kwargs\n",
        "my_dict=key_arg(Apples=10,oranges=20,Grapes=30)\n",
        "print(my_dict['Apples'])\n",
        "print(my_dict)"
      ],
      "metadata": {
        "colab": {
          "base_uri": "https://localhost:8080/"
        },
        "id": "D5FxwTwPc4Se",
        "outputId": "3d73e3cc-dcba-435c-b332-eefd7dd633dc"
      },
      "execution_count": 62,
      "outputs": [
        {
          "output_type": "stream",
          "name": "stdout",
          "text": [
            "10\n",
            "{'Apples': 10, 'oranges': 20, 'Grapes': 30}\n"
          ]
        }
      ]
    },
    {
      "cell_type": "code",
      "source": [
        "def add_num(*n):\n",
        "print(n)\n",
        "print(sum(n))\n",
        "\n",
        "add_num(5,11)\n"
      ],
      "metadata": {
        "colab": {
          "base_uri": "https://localhost:8080/",
          "height": 130
        },
        "id": "NrisOCMtdjkM",
        "outputId": "b0936b1a-c3ea-4875-ff31-8edd2cc6f9cd"
      },
      "execution_count": 65,
      "outputs": [
        {
          "output_type": "error",
          "ename": "IndentationError",
          "evalue": "ignored",
          "traceback": [
            "\u001b[0;36m  File \u001b[0;32m\"<ipython-input-65-9275b54cfc16>\"\u001b[0;36m, line \u001b[0;32m2\u001b[0m\n\u001b[0;31m    print(n)\u001b[0m\n\u001b[0m        ^\u001b[0m\n\u001b[0;31mIndentationError\u001b[0m\u001b[0;31m:\u001b[0m expected an indented block\n"
          ]
        }
      ]
    },
    {
      "cell_type": "code",
      "source": [
        "def shout(text):\n",
        "  return text.upper()\n",
        "\n",
        "  def whisper(text):\n",
        "    return text.lower()\n",
        "\n",
        "    def explain(func):\n",
        "      greet=func(\"Hi,i am higher\")\n",
        " print(greet)\n",
        "\n",
        "  explain(shout)\n",
        "  explain(whisper)"
      ],
      "metadata": {
        "colab": {
          "base_uri": "https://localhost:8080/",
          "height": 130
        },
        "id": "3rtYt2eUe2sK",
        "outputId": "a5f2b679-bee4-4a60-afeb-a42715877669"
      },
      "execution_count": 74,
      "outputs": [
        {
          "output_type": "error",
          "ename": "IndentationError",
          "evalue": "ignored",
          "traceback": [
            "\u001b[0;36m  File \u001b[0;32m\"<ipython-input-74-b677f0b1ffef>\"\u001b[0;36m, line \u001b[0;32m9\u001b[0m\n\u001b[0;31m    print(greet)\u001b[0m\n\u001b[0m                ^\u001b[0m\n\u001b[0;31mIndentationError\u001b[0m\u001b[0;31m:\u001b[0m unindent does not match any outer indentation level\n"
          ]
        }
      ]
    },
    {
      "cell_type": "code",
      "source": [
        "#lambda\n",
        "def incr(x):\n",
        "  x=x+1\n",
        "  return x\n",
        "  print(incr(4))\n",
        "  print((lambda x:x+1)(4))\n",
        "  res=lambda x+x+1\n",
        "  print(res(4))"
      ],
      "metadata": {
        "colab": {
          "base_uri": "https://localhost:8080/",
          "height": 130
        },
        "id": "rb6Iox0GgAok",
        "outputId": "eba3a3de-175e-467f-b6a5-f53e550066ad"
      },
      "execution_count": 77,
      "outputs": [
        {
          "output_type": "error",
          "ename": "SyntaxError",
          "evalue": "ignored",
          "traceback": [
            "\u001b[0;36m  File \u001b[0;32m\"<ipython-input-77-b70e2fddd417>\"\u001b[0;36m, line \u001b[0;32m7\u001b[0m\n\u001b[0;31m    res=lambda x+x+1\u001b[0m\n\u001b[0m                ^\u001b[0m\n\u001b[0;31mSyntaxError\u001b[0m\u001b[0;31m:\u001b[0m invalid syntax\n"
          ]
        }
      ]
    },
    {
      "cell_type": "code",
      "source": [
        "#modules\n",
        "import os\n",
        "os.mkdir(\"hi\")\n",
        "os.chdir(\"hi\")\n",
        "os.getcwd()\n",
        "os.listdir()\n",
        "os.rmdir(\"/ content/hi\")\n",
        "\n",
        "\n",
        "\n",
        "\n"
      ],
      "metadata": {
        "id": "Ds-n3x61qY-h"
      },
      "execution_count": null,
      "outputs": []
    },
    {
      "cell_type": "code",
      "source": [
        "import math as m\n",
        "print(m.pi)\n",
        "print(m.e)\n",
        "print(m.sqrt(4))\n",
        "print(m.factorial(5))\n",
        "print(m.pow(2,2))\n",
        "print(m.floor(1.4))\n",
        "print(m.tan(5))\n",
        "print(m.log(2))\n"
      ],
      "metadata": {
        "colab": {
          "base_uri": "https://localhost:8080/"
        },
        "id": "2wWTTRnxc-Rk",
        "outputId": "5cd983e0-a200-4ba6-aa74-b4d92544f23a"
      },
      "execution_count": 86,
      "outputs": [
        {
          "output_type": "stream",
          "name": "stdout",
          "text": [
            "3.141592653589793\n",
            "2.718281828459045\n",
            "2.0\n",
            "120\n",
            "4.0\n",
            "1\n",
            "-3.380515006246586\n",
            "0.6931471805599453\n"
          ]
        }
      ]
    },
    {
      "cell_type": "code",
      "source": [
        "#sys module\n",
        "import sys\n",
        "print(sys.path)\n",
        "print(sys.version)\n",
        "print(sys.maxsize)"
      ],
      "metadata": {
        "colab": {
          "base_uri": "https://localhost:8080/"
        },
        "id": "kjb6QHLjryf6",
        "outputId": "0a67c368-c3f5-4768-f880-a98e4a3655e0"
      },
      "execution_count": 87,
      "outputs": [
        {
          "output_type": "stream",
          "name": "stdout",
          "text": [
            "['', '/content', '/env/python', '/usr/lib/python37.zip', '/usr/lib/python3.7', '/usr/lib/python3.7/lib-dynload', '/usr/local/lib/python3.7/dist-packages', '/usr/lib/python3/dist-packages', '/usr/local/lib/python3.7/dist-packages/IPython/extensions', '/root/.ipython']\n",
            "3.7.13 (default, Apr 24 2022, 01:04:09) \n",
            "[GCC 7.5.0]\n",
            "9223372036854775807\n"
          ]
        }
      ]
    },
    {
      "cell_type": "code",
      "source": [
        "#statistics module\n",
        "import statistics as st\n",
        "print(st.mean([21,29,34]))\n",
        "print(st.median([1,2,3,4,5]))\n",
        "print(st.mode([1,2,3,1,1]))\n"
      ],
      "metadata": {
        "colab": {
          "base_uri": "https://localhost:8080/"
        },
        "id": "7NPL61s2sH_I",
        "outputId": "839b70b8-303b-4f82-f37b-5c24ba3074ac"
      },
      "execution_count": 90,
      "outputs": [
        {
          "output_type": "stream",
          "name": "stdout",
          "text": [
            "28\n",
            "3\n",
            "1\n"
          ]
        }
      ]
    },
    {
      "cell_type": "code",
      "source": [
        "#time module\n",
        "\n",
        "import time\n",
        "print(time.time())\n",
        "print(time.asctime())\n",
        "print(time.ctime())\n"
      ],
      "metadata": {
        "colab": {
          "base_uri": "https://localhost:8080/"
        },
        "id": "QyQvSX2Gs8Ax",
        "outputId": "7433d67e-e7c8-4139-a24a-555b42040926"
      },
      "execution_count": 91,
      "outputs": [
        {
          "output_type": "stream",
          "name": "stdout",
          "text": [
            "1655201674.56891\n",
            "Tue Jun 14 10:14:34 2022\n",
            "Tue Jun 14 10:14:34 2022\n"
          ]
        }
      ]
    },
    {
      "cell_type": "code",
      "source": [
        "#random module\n",
        "import random\n",
        "print(random.randrage(1,50))\n",
        "print(random.randint(1,100))\n",
        "print(random.random())"
      ],
      "metadata": {
        "colab": {
          "base_uri": "https://localhost:8080/",
          "height": 235
        },
        "id": "neIu8oPmtXIE",
        "outputId": "f8d4aa77-d5bb-4eb7-a7ae-7e35e3f56633"
      },
      "execution_count": 94,
      "outputs": [
        {
          "output_type": "error",
          "ename": "AttributeError",
          "evalue": "ignored",
          "traceback": [
            "\u001b[0;31m---------------------------------------------------------------------------\u001b[0m",
            "\u001b[0;31mAttributeError\u001b[0m                            Traceback (most recent call last)",
            "\u001b[0;32m<ipython-input-94-50d55a4214de>\u001b[0m in \u001b[0;36m<module>\u001b[0;34m()\u001b[0m\n\u001b[1;32m      1\u001b[0m \u001b[0;31m#random module\u001b[0m\u001b[0;34m\u001b[0m\u001b[0;34m\u001b[0m\u001b[0;34m\u001b[0m\u001b[0m\n\u001b[1;32m      2\u001b[0m \u001b[0;32mimport\u001b[0m \u001b[0mrandom\u001b[0m\u001b[0;34m\u001b[0m\u001b[0;34m\u001b[0m\u001b[0m\n\u001b[0;32m----> 3\u001b[0;31m \u001b[0mprint\u001b[0m\u001b[0;34m(\u001b[0m\u001b[0mrandom\u001b[0m\u001b[0;34m.\u001b[0m\u001b[0mrandrage\u001b[0m\u001b[0;34m(\u001b[0m\u001b[0;36m1\u001b[0m\u001b[0;34m,\u001b[0m\u001b[0;36m50\u001b[0m\u001b[0;34m)\u001b[0m\u001b[0;34m)\u001b[0m\u001b[0;34m\u001b[0m\u001b[0;34m\u001b[0m\u001b[0m\n\u001b[0m\u001b[1;32m      4\u001b[0m \u001b[0mprint\u001b[0m\u001b[0;34m(\u001b[0m\u001b[0mrandom\u001b[0m\u001b[0;34m.\u001b[0m\u001b[0mrandint\u001b[0m\u001b[0;34m(\u001b[0m\u001b[0;36m1\u001b[0m\u001b[0;34m,\u001b[0m\u001b[0;36m100\u001b[0m\u001b[0;34m)\u001b[0m\u001b[0;34m)\u001b[0m\u001b[0;34m\u001b[0m\u001b[0;34m\u001b[0m\u001b[0m\n\u001b[1;32m      5\u001b[0m \u001b[0mprint\u001b[0m\u001b[0;34m(\u001b[0m\u001b[0mrandom\u001b[0m\u001b[0;34m.\u001b[0m\u001b[0mrandom\u001b[0m\u001b[0;34m(\u001b[0m\u001b[0;34m)\u001b[0m\u001b[0;34m)\u001b[0m\u001b[0;34m\u001b[0m\u001b[0;34m\u001b[0m\u001b[0m\n",
            "\u001b[0;31mAttributeError\u001b[0m: module 'random' has no attribute 'randrage'"
          ]
        }
      ]
    },
    {
      "cell_type": "code",
      "source": [
        "import random\n",
        "g_num=random.randint(0,5)\n",
        "g2_num=int(intput(\"enter a number\"))\n",
        "if g2_num=="
      ],
      "metadata": {
        "id": "ZrTR06XQt_va"
      },
      "execution_count": null,
      "outputs": []
    }
  ]
}